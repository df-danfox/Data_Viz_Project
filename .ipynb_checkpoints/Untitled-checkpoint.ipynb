{
 "cells": [
  {
   "cell_type": "code",
   "execution_count": 1,
   "metadata": {},
   "outputs": [],
   "source": [
    "import requests\n",
    "import json\n",
    "import prettytable\n",
    "headers = {'Content-type': 'application/json'}\n",
    "data = json.dumps({\"seriesid\": ['SMU06417404348530026','SMU48191004348530026'],\"startyear\":\"2015\", \"endyear\":\"2018\"})\n",
    "p = requests.post('https://api.bls.gov/publicAPI/v2/timeseries \\\n",
    "                  /data/?registrationkey=a2a2843a9b2f4168a812bf2a20ae6b9a\\\n",
    "                  &catalog=true&startyear=2015&endyear=2018&calculations=true \\\n",
    "                  &annualaverage=true', data=data, headers=headers)\n",
    "json_data = json.loads(p.text)\n",
    "for series in json_data['Results']['series']:\n",
    "    x=prettytable.PrettyTable([\"series id\",\"year\",\"period\",\"value\",\"footnotes\"])\n",
    "    seriesId = series['seriesID']\n",
    "    for item in series['data']:\n",
    "        year = item['year']\n",
    "        period = item['period']\n",
    "        value = item['value']\n",
    "        footnotes=\"\"\n",
    "        for footnote in item['footnotes']:\n",
    "            if footnote:\n",
    "                footnotes = footnotes + footnote['text'] + ','\n",
    "        if 'M01' <= period <= 'M12':\n",
    "            x.add_row([seriesId,year,period,value,footnotes[0:-1]])\n",
    "            output = open(seriesId + '.txt','w')\n",
    "            output.write (x.get_string())\n",
    "            output.close()"
   ]
  },
  {
   "cell_type": "code",
   "execution_count": null,
   "metadata": {},
   "outputs": [],
   "source": [
    "# San Diego\n",
    "# SMU48417404348530026\n",
    "\n",
    "# Dallas\n",
    "# SMU06191004348530026\n",
    "\n",
    "# state_code\tstate_name\n",
    "# 06\tCalifornia\n",
    "# 48\tTexas\n",
    "\n",
    "# area_code\tarea_name\n",
    "# 41740\tSan Diego-Carlsbad, CA\n",
    "# 19100\tDallas-Fort Worth-Arlington, TX\n",
    "# 19124\tDallas-Plano-Irving, TX Metropolitan Division\n",
    "\n",
    "\n",
    "# industry_code\tindustry_name\n",
    "# 43485300\tTaxi and Limousine Service\n",
    "\n",
    "# data_type_code\tdata_type_text\n",
    "# 01\tAll Employees, In Thousands\n",
    "# 02\tAverage Weekly Hours of All Employees\n",
    "# 03\tAverage Hourly Earnings of All Employees, In Dollars\n",
    "# 06\tProduction or Nonsupervisory Employees, In Thousands\n",
    "# 07\tAverage Weekly Hours of Production Employees\n",
    "# 08\tAverage Hourly Earnings of Production Employees, In Dollars\n",
    "# 11\tAverage Weekly Earnings of All Employees, In Dollars\n",
    "# 26\tAll Employees, 3-month average change, In Thousands, seasonally adjusted\n",
    "# 30\tAverage Weekly Earnings of Production Employees, In Dollars"
   ]
  },
  {
   "cell_type": "code",
   "execution_count": null,
   "metadata": {},
   "outputs": [],
   "source": [
    "# \tQuarterly Census of Employment and Wages\n",
    "# 4853\tNAICS 4853 Taxi and limousine service\n",
    "# 48531\tNAICS 48531 Taxi service\n",
    "# 485310\tNAICS 485310 Taxi service\n",
    "# 48532\tNAICS 48532 Limousine service\n",
    "# 485320\tNAICS 485320 Limousine service\n",
    "# 4854\tNAICS 4854 School and employee bus transportation\n",
    "# 48541\tNAICS 48541 School and employee bus transportation\n",
    "# 485410\tNAICS 485410 School and employee bus transportation\n",
    "# 4855\tNAICS 4855 Charter bus industry\n",
    "# 48551\tNAICS 48551 Charter bus industry\n",
    "# 485510\tNAICS 485510 Charter bus industry\n",
    "# 4859\tNAICS 4859 Other ground passenger transportation\n",
    "# 48599\tNAICS 48599 Other ground passenger transportation\n",
    "# 485991\tNAICS 485991 Special needs transportation\n",
    "# 485999\tNAICS 485999 All other ground passenger transportation"
   ]
  }
 ],
 "metadata": {
  "kernelspec": {
   "display_name": "Python 3",
   "language": "python",
   "name": "python3"
  },
  "language_info": {
   "codemirror_mode": {
    "name": "ipython",
    "version": 3
   },
   "file_extension": ".py",
   "mimetype": "text/x-python",
   "name": "python",
   "nbconvert_exporter": "python",
   "pygments_lexer": "ipython3",
   "version": "3.7.2"
  }
 },
 "nbformat": 4,
 "nbformat_minor": 2
}
