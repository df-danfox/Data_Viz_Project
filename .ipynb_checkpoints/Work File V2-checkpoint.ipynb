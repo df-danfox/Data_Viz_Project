{
 "cells": [
  {
   "cell_type": "code",
   "execution_count": 1,
   "metadata": {},
   "outputs": [],
   "source": [
    "# Importing Dependencies\n",
    "import pandas as pd\n",
    "import numpy as np\n",
    "import matplotlib.pyplot as plt\n",
    "import requests\n",
    "#from census import Census\n",
    "import json\n",
    "import pprint as pprint\n",
    "import seaborn as sns\n"
   ]
  },
  {
   "cell_type": "code",
   "execution_count": 2,
   "metadata": {},
   "outputs": [],
   "source": [
    "# Declaring paths to individual csv files of San Diego data for each year\n",
    "\n",
    "file_sd_2014 = \"2014 San Diego Data.csv\"\n",
    "file_sd_2015 = \"2015 San Diego Data.csv\"\n",
    "file_sd_2016 = \"2016 San Diego Data.csv\"\n",
    "file_sd_2017 = \"2017 San Diego Data.csv\""
   ]
  },
  {
   "cell_type": "code",
   "execution_count": 3,
   "metadata": {},
   "outputs": [
    {
     "ename": "FileNotFoundError",
     "evalue": "File b'2014 San Diego Data.csv' does not exist",
     "output_type": "error",
     "traceback": [
      "\u001b[0;31m---------------------------------------------------------------------------\u001b[0m",
      "\u001b[0;31mFileNotFoundError\u001b[0m                         Traceback (most recent call last)",
      "\u001b[0;32m<ipython-input-3-ef9272e4b9e3>\u001b[0m in \u001b[0;36m<module>\u001b[0;34m()\u001b[0m\n\u001b[1;32m      1\u001b[0m \u001b[0;31m# Reading csv and forming yearwise dataframe\u001b[0m\u001b[0;34m\u001b[0m\u001b[0;34m\u001b[0m\u001b[0;34m\u001b[0m\u001b[0m\n\u001b[1;32m      2\u001b[0m \u001b[0;34m\u001b[0m\u001b[0m\n\u001b[0;32m----> 3\u001b[0;31m \u001b[0msd_2014_df\u001b[0m\u001b[0;34m=\u001b[0m\u001b[0mpd\u001b[0m\u001b[0;34m.\u001b[0m\u001b[0mread_csv\u001b[0m\u001b[0;34m(\u001b[0m\u001b[0mfile_sd_2014\u001b[0m\u001b[0;34m)\u001b[0m\u001b[0;34m\u001b[0m\u001b[0;34m\u001b[0m\u001b[0m\n\u001b[0m\u001b[1;32m      4\u001b[0m \u001b[0msd_2015_df\u001b[0m\u001b[0;34m=\u001b[0m\u001b[0mpd\u001b[0m\u001b[0;34m.\u001b[0m\u001b[0mread_csv\u001b[0m\u001b[0;34m(\u001b[0m\u001b[0mfile_sd_2015\u001b[0m\u001b[0;34m)\u001b[0m\u001b[0;34m\u001b[0m\u001b[0;34m\u001b[0m\u001b[0m\n\u001b[1;32m      5\u001b[0m \u001b[0msd_2016_df\u001b[0m\u001b[0;34m=\u001b[0m\u001b[0mpd\u001b[0m\u001b[0;34m.\u001b[0m\u001b[0mread_csv\u001b[0m\u001b[0;34m(\u001b[0m\u001b[0mfile_sd_2016\u001b[0m\u001b[0;34m)\u001b[0m\u001b[0;34m\u001b[0m\u001b[0;34m\u001b[0m\u001b[0m\n",
      "\u001b[0;32m/anaconda3/lib/python3.7/site-packages/pandas/io/parsers.py\u001b[0m in \u001b[0;36mparser_f\u001b[0;34m(filepath_or_buffer, sep, delimiter, header, names, index_col, usecols, squeeze, prefix, mangle_dupe_cols, dtype, engine, converters, true_values, false_values, skipinitialspace, skiprows, nrows, na_values, keep_default_na, na_filter, verbose, skip_blank_lines, parse_dates, infer_datetime_format, keep_date_col, date_parser, dayfirst, iterator, chunksize, compression, thousands, decimal, lineterminator, quotechar, quoting, escapechar, comment, encoding, dialect, tupleize_cols, error_bad_lines, warn_bad_lines, skipfooter, doublequote, delim_whitespace, low_memory, memory_map, float_precision)\u001b[0m\n\u001b[1;32m    676\u001b[0m                     skip_blank_lines=skip_blank_lines)\n\u001b[1;32m    677\u001b[0m \u001b[0;34m\u001b[0m\u001b[0m\n\u001b[0;32m--> 678\u001b[0;31m         \u001b[0;32mreturn\u001b[0m \u001b[0m_read\u001b[0m\u001b[0;34m(\u001b[0m\u001b[0mfilepath_or_buffer\u001b[0m\u001b[0;34m,\u001b[0m \u001b[0mkwds\u001b[0m\u001b[0;34m)\u001b[0m\u001b[0;34m\u001b[0m\u001b[0;34m\u001b[0m\u001b[0m\n\u001b[0m\u001b[1;32m    679\u001b[0m \u001b[0;34m\u001b[0m\u001b[0m\n\u001b[1;32m    680\u001b[0m     \u001b[0mparser_f\u001b[0m\u001b[0;34m.\u001b[0m\u001b[0m__name__\u001b[0m \u001b[0;34m=\u001b[0m \u001b[0mname\u001b[0m\u001b[0;34m\u001b[0m\u001b[0;34m\u001b[0m\u001b[0m\n",
      "\u001b[0;32m/anaconda3/lib/python3.7/site-packages/pandas/io/parsers.py\u001b[0m in \u001b[0;36m_read\u001b[0;34m(filepath_or_buffer, kwds)\u001b[0m\n\u001b[1;32m    438\u001b[0m \u001b[0;34m\u001b[0m\u001b[0m\n\u001b[1;32m    439\u001b[0m     \u001b[0;31m# Create the parser.\u001b[0m\u001b[0;34m\u001b[0m\u001b[0;34m\u001b[0m\u001b[0;34m\u001b[0m\u001b[0m\n\u001b[0;32m--> 440\u001b[0;31m     \u001b[0mparser\u001b[0m \u001b[0;34m=\u001b[0m \u001b[0mTextFileReader\u001b[0m\u001b[0;34m(\u001b[0m\u001b[0mfilepath_or_buffer\u001b[0m\u001b[0;34m,\u001b[0m \u001b[0;34m**\u001b[0m\u001b[0mkwds\u001b[0m\u001b[0;34m)\u001b[0m\u001b[0;34m\u001b[0m\u001b[0;34m\u001b[0m\u001b[0m\n\u001b[0m\u001b[1;32m    441\u001b[0m \u001b[0;34m\u001b[0m\u001b[0m\n\u001b[1;32m    442\u001b[0m     \u001b[0;32mif\u001b[0m \u001b[0mchunksize\u001b[0m \u001b[0;32mor\u001b[0m \u001b[0miterator\u001b[0m\u001b[0;34m:\u001b[0m\u001b[0;34m\u001b[0m\u001b[0;34m\u001b[0m\u001b[0m\n",
      "\u001b[0;32m/anaconda3/lib/python3.7/site-packages/pandas/io/parsers.py\u001b[0m in \u001b[0;36m__init__\u001b[0;34m(self, f, engine, **kwds)\u001b[0m\n\u001b[1;32m    785\u001b[0m             \u001b[0mself\u001b[0m\u001b[0;34m.\u001b[0m\u001b[0moptions\u001b[0m\u001b[0;34m[\u001b[0m\u001b[0;34m'has_index_names'\u001b[0m\u001b[0;34m]\u001b[0m \u001b[0;34m=\u001b[0m \u001b[0mkwds\u001b[0m\u001b[0;34m[\u001b[0m\u001b[0;34m'has_index_names'\u001b[0m\u001b[0;34m]\u001b[0m\u001b[0;34m\u001b[0m\u001b[0;34m\u001b[0m\u001b[0m\n\u001b[1;32m    786\u001b[0m \u001b[0;34m\u001b[0m\u001b[0m\n\u001b[0;32m--> 787\u001b[0;31m         \u001b[0mself\u001b[0m\u001b[0;34m.\u001b[0m\u001b[0m_make_engine\u001b[0m\u001b[0;34m(\u001b[0m\u001b[0mself\u001b[0m\u001b[0;34m.\u001b[0m\u001b[0mengine\u001b[0m\u001b[0;34m)\u001b[0m\u001b[0;34m\u001b[0m\u001b[0;34m\u001b[0m\u001b[0m\n\u001b[0m\u001b[1;32m    788\u001b[0m \u001b[0;34m\u001b[0m\u001b[0m\n\u001b[1;32m    789\u001b[0m     \u001b[0;32mdef\u001b[0m \u001b[0mclose\u001b[0m\u001b[0;34m(\u001b[0m\u001b[0mself\u001b[0m\u001b[0;34m)\u001b[0m\u001b[0;34m:\u001b[0m\u001b[0;34m\u001b[0m\u001b[0;34m\u001b[0m\u001b[0m\n",
      "\u001b[0;32m/anaconda3/lib/python3.7/site-packages/pandas/io/parsers.py\u001b[0m in \u001b[0;36m_make_engine\u001b[0;34m(self, engine)\u001b[0m\n\u001b[1;32m   1012\u001b[0m     \u001b[0;32mdef\u001b[0m \u001b[0m_make_engine\u001b[0m\u001b[0;34m(\u001b[0m\u001b[0mself\u001b[0m\u001b[0;34m,\u001b[0m \u001b[0mengine\u001b[0m\u001b[0;34m=\u001b[0m\u001b[0;34m'c'\u001b[0m\u001b[0;34m)\u001b[0m\u001b[0;34m:\u001b[0m\u001b[0;34m\u001b[0m\u001b[0;34m\u001b[0m\u001b[0m\n\u001b[1;32m   1013\u001b[0m         \u001b[0;32mif\u001b[0m \u001b[0mengine\u001b[0m \u001b[0;34m==\u001b[0m \u001b[0;34m'c'\u001b[0m\u001b[0;34m:\u001b[0m\u001b[0;34m\u001b[0m\u001b[0;34m\u001b[0m\u001b[0m\n\u001b[0;32m-> 1014\u001b[0;31m             \u001b[0mself\u001b[0m\u001b[0;34m.\u001b[0m\u001b[0m_engine\u001b[0m \u001b[0;34m=\u001b[0m \u001b[0mCParserWrapper\u001b[0m\u001b[0;34m(\u001b[0m\u001b[0mself\u001b[0m\u001b[0;34m.\u001b[0m\u001b[0mf\u001b[0m\u001b[0;34m,\u001b[0m \u001b[0;34m**\u001b[0m\u001b[0mself\u001b[0m\u001b[0;34m.\u001b[0m\u001b[0moptions\u001b[0m\u001b[0;34m)\u001b[0m\u001b[0;34m\u001b[0m\u001b[0;34m\u001b[0m\u001b[0m\n\u001b[0m\u001b[1;32m   1015\u001b[0m         \u001b[0;32melse\u001b[0m\u001b[0;34m:\u001b[0m\u001b[0;34m\u001b[0m\u001b[0;34m\u001b[0m\u001b[0m\n\u001b[1;32m   1016\u001b[0m             \u001b[0;32mif\u001b[0m \u001b[0mengine\u001b[0m \u001b[0;34m==\u001b[0m \u001b[0;34m'python'\u001b[0m\u001b[0;34m:\u001b[0m\u001b[0;34m\u001b[0m\u001b[0;34m\u001b[0m\u001b[0m\n",
      "\u001b[0;32m/anaconda3/lib/python3.7/site-packages/pandas/io/parsers.py\u001b[0m in \u001b[0;36m__init__\u001b[0;34m(self, src, **kwds)\u001b[0m\n\u001b[1;32m   1706\u001b[0m         \u001b[0mkwds\u001b[0m\u001b[0;34m[\u001b[0m\u001b[0;34m'usecols'\u001b[0m\u001b[0;34m]\u001b[0m \u001b[0;34m=\u001b[0m \u001b[0mself\u001b[0m\u001b[0;34m.\u001b[0m\u001b[0musecols\u001b[0m\u001b[0;34m\u001b[0m\u001b[0;34m\u001b[0m\u001b[0m\n\u001b[1;32m   1707\u001b[0m \u001b[0;34m\u001b[0m\u001b[0m\n\u001b[0;32m-> 1708\u001b[0;31m         \u001b[0mself\u001b[0m\u001b[0;34m.\u001b[0m\u001b[0m_reader\u001b[0m \u001b[0;34m=\u001b[0m \u001b[0mparsers\u001b[0m\u001b[0;34m.\u001b[0m\u001b[0mTextReader\u001b[0m\u001b[0;34m(\u001b[0m\u001b[0msrc\u001b[0m\u001b[0;34m,\u001b[0m \u001b[0;34m**\u001b[0m\u001b[0mkwds\u001b[0m\u001b[0;34m)\u001b[0m\u001b[0;34m\u001b[0m\u001b[0;34m\u001b[0m\u001b[0m\n\u001b[0m\u001b[1;32m   1709\u001b[0m \u001b[0;34m\u001b[0m\u001b[0m\n\u001b[1;32m   1710\u001b[0m         \u001b[0mpassed_names\u001b[0m \u001b[0;34m=\u001b[0m \u001b[0mself\u001b[0m\u001b[0;34m.\u001b[0m\u001b[0mnames\u001b[0m \u001b[0;32mis\u001b[0m \u001b[0;32mNone\u001b[0m\u001b[0;34m\u001b[0m\u001b[0;34m\u001b[0m\u001b[0m\n",
      "\u001b[0;32mpandas/_libs/parsers.pyx\u001b[0m in \u001b[0;36mpandas._libs.parsers.TextReader.__cinit__\u001b[0;34m()\u001b[0m\n",
      "\u001b[0;32mpandas/_libs/parsers.pyx\u001b[0m in \u001b[0;36mpandas._libs.parsers.TextReader._setup_parser_source\u001b[0;34m()\u001b[0m\n",
      "\u001b[0;31mFileNotFoundError\u001b[0m: File b'2014 San Diego Data.csv' does not exist"
     ]
    }
   ],
   "source": [
    "# Reading csv and forming yearwise dataframe\n",
    "\n",
    "sd_2014_df=pd.read_csv(file_sd_2014)\n",
    "sd_2015_df=pd.read_csv(file_sd_2015)\n",
    "sd_2016_df=pd.read_csv(file_sd_2016)\n",
    "sd_2017_df=pd.read_csv(file_sd_2017)\n",
    "\n"
   ]
  },
  {
   "cell_type": "code",
   "execution_count": null,
   "metadata": {},
   "outputs": [],
   "source": [
    "# filtering and generating dataframe for taxi and limosine industry(code=4853)\n",
    "\n",
    "# sd_2014 row\n",
    "\n",
    "sd_2014_df=sd_2014_df.loc[(sd_2014_df[\"industry_code\"] == \"4853\"), :]\n",
    "# Considering required  columns for our analyses\n",
    "sd_2014_df=sd_2014_df[[\"area_fips\",\"industry_code\",\"year\",\"annual_avg_estabs\",\"annual_avg_emplvl\",\"annual_avg_wkly_wage\",\"avg_annual_pay\"]]\n",
    "# Transposing the row on year\n",
    "sd_2014_df= sd_2014_df.set_index('year').T\n",
    "# Review the transposed df\n",
    "sd_2014_df.head()\n",
    "\n",
    "\n",
    "# sd_2015 row\n",
    "\n",
    "sd_2015_df=sd_2015_df.loc[(sd_2015_df[\"industry_code\"] == \"4853\"), :]\n",
    "# Considering required  columns for our analyses\n",
    "sd_2015_df=sd_2015_df[[\"area_fips\",\"industry_code\",\"year\",\"annual_avg_estabs\",\"annual_avg_emplvl\",\"annual_avg_wkly_wage\",\"avg_annual_pay\"]]\n",
    "# Transposing the row on year\n",
    "sd_2015_df= sd_2015_df.set_index('year').T\n",
    "# Review the transposed df\n",
    "sd_2015_df.head()\n",
    "\n",
    "# sd_2016 row\n",
    "\n",
    "sd_2016_df=sd_2016_df.loc[(sd_2016_df[\"industry_code\"] == \"4853\"), :]\n",
    "# Considering required  columns for our analyses\n",
    "sd_2016_df=sd_2016_df[[\"area_fips\",\"industry_code\",\"year\",\"annual_avg_estabs\",\"annual_avg_emplvl\",\"annual_avg_wkly_wage\",\"avg_annual_pay\"]]\n",
    "# Transposing the row on year\n",
    "sd_2016_df= sd_2016_df.set_index('year').T\n",
    "# Review the transposed df\n",
    "sd_2016_df.head()\n",
    "\n",
    "# sd_2017 row\n",
    "\n",
    "sd_2017_df=sd_2017_df.loc[(sd_2017_df[\"industry_code\"] == \"4853\"), :]\n",
    "# Considering required  columns for our analyses\n",
    "sd_2017_df=sd_2017_df[[\"area_fips\",\"industry_code\",\"year\",\"annual_avg_estabs\",\"annual_avg_emplvl\",\"annual_avg_wkly_wage\",\"avg_annual_pay\"]]\n",
    "# Transposing the row on year\n",
    "sd_2017_df= sd_2017_df.set_index('year').T\n",
    "# Review the transposed df\n",
    "sd_2017_df.head()"
   ]
  },
  {
   "cell_type": "code",
   "execution_count": null,
   "metadata": {},
   "outputs": [],
   "source": [
    "# Combining all year data for San Diego\n",
    "sd_df=pd.concat([sd_2014_df, sd_2015_df,sd_2016_df, sd_2017_df], axis = 1)\n",
    "sd_df.head()\n",
    "\n",
    "# Transposing the dataset and resetting index\n",
    "sd_df=sd_df.T\n",
    "#sd_df.index.name is None\n",
    "\n",
    "sd_df\n",
    "\n",
    "#sd_df.set_index()\n",
    "#sd_df"
   ]
  },
  {
   "cell_type": "code",
   "execution_count": null,
   "metadata": {},
   "outputs": [],
   "source": [
    "\n",
    "sd_df.columns = sd_df.columns.get_level_values(0)\n",
    "\n",
    "#sd_df.reset_index(inplace=True) \n",
    "#df.drop(“year”,axis=1,inplace=True)\n",
    "#sd_df['Year'] = sd_df.index\n",
    "sd_df\n",
    "#sd_df=sd_df[[\"annual_avg_estabs\",\"annual_avg_emplvl\",\"annual_avg_wkly_wage\",\"avg_annual_pay\"]]\n",
    "#sd_df.columns\n",
    "#sd_df=sd_df.rename(columns={\"annual_avg_estabs”:“SD Avg Establishments”, “annual_avg_emplvl”: “SD Avg Employees”, “annual_avg_wkly_wage”: “SD Avg weekly wage”})\n",
    "#print(sd_df.head())    \n",
    "\n",
    "#age=sd_df.loc[\"\",\"annual_avg_estabs\"]\n",
    "#age\n",
    "#print(sd_df.head())    \n",
    "\n",
    "#df['index1'] = df.index"
   ]
  },
  {
   "cell_type": "code",
   "execution_count": null,
   "metadata": {},
   "outputs": [],
   "source": [
    "\n",
    "# Declaring paths to individual csv files of Dallas data for each year\n",
    "\n",
    "file_tx_2014 = \"2014 Dallas Data.csv\"\n",
    "file_tx_2015 = \"2015 Dallas Data.csv\"\n",
    "file_tx_2016 = \"2016 Dallas Data.csv\"\n",
    "file_tx_2017 = \"2017 Dallas Data.csv\""
   ]
  },
  {
   "cell_type": "code",
   "execution_count": null,
   "metadata": {},
   "outputs": [],
   "source": [
    "# Reading csv and forming yearwise dataframe\n",
    "\n",
    "tx_2014_df=pd.read_csv(file_tx_2014)\n",
    "tx_2015_df=pd.read_csv(file_tx_2015)\n",
    "tx_2016_df=pd.read_csv(file_tx_2016)\n",
    "tx_2017_df=pd.read_csv(file_tx_2017)\n"
   ]
  },
  {
   "cell_type": "code",
   "execution_count": null,
   "metadata": {},
   "outputs": [],
   "source": [
    "# filtering and generating dataframe for taxi and limosine industry(code=4853)\n",
    "\n",
    "# tx_2014 row\n",
    "\n",
    "tx_2014_df=tx_2014_df.loc[(tx_2014_df[\"industry_code\"] == \"4853\"), :]\n",
    "# Considering required  columns for our analyses\n",
    "tx_2014_df=tx_2014_df[[\"area_fips\",\"industry_code\",\"year\",\"annual_avg_estabs\",\"annual_avg_emplvl\",\"annual_avg_wkly_wage\",\"avg_annual_pay\"]]\n",
    "# Transposing the row on year\n",
    "tx_2014_df= tx_2014_df.set_index('year').T\n",
    "# Review the transposed df\n",
    "tx_2014_df.head()\n",
    "\n",
    "\n",
    "# tx_2015 row\n",
    "\n",
    "tx_2015_df=tx_2015_df.loc[(tx_2015_df[\"industry_code\"] == \"4853\"), :]\n",
    "# Considering required  columns for our analyses\n",
    "tx_2015_df=tx_2015_df[[\"area_fips\",\"industry_code\",\"year\",\"annual_avg_estabs\",\"annual_avg_emplvl\",\"annual_avg_wkly_wage\",\"avg_annual_pay\"]]\n",
    "# Transposing the row on year\n",
    "tx_2015_df= tx_2015_df.set_index('year').T\n",
    "# Review the transposed df\n",
    "tx_2015_df.head()\n",
    "\n",
    "# tx_2016 row\n",
    "\n",
    "tx_2016_df=tx_2016_df.loc[(tx_2016_df[\"industry_code\"] == \"4853\"), :]\n",
    "# Considering required  columns for our analyses\n",
    "tx_2016_df=tx_2016_df[[\"area_fips\",\"industry_code\",\"year\",\"annual_avg_estabs\",\"annual_avg_emplvl\",\"annual_avg_wkly_wage\",\"avg_annual_pay\"]]\n",
    "# Transposing the row on year\n",
    "tx_2016_df= tx_2016_df.set_index('year').T\n",
    "# Review the transposed df\n",
    "tx_2016_df.head()\n",
    "\n",
    "# tx_2017 row\n",
    "\n",
    "tx_2017_df=tx_2017_df.loc[(tx_2017_df[\"industry_code\"] == \"4853\"), :]\n",
    "# Considering required  columns for our analyses\n",
    "tx_2017_df=tx_2017_df[[\"area_fips\",\"industry_code\",\"year\",\"annual_avg_estabs\",\"annual_avg_emplvl\",\"annual_avg_wkly_wage\",\"avg_annual_pay\"]]\n",
    "# Transposing the row on year\n",
    "tx_2017_df= tx_2017_df.set_index('year').T\n",
    "# Review the transposed df\n",
    "tx_2017_df.head()"
   ]
  },
  {
   "cell_type": "code",
   "execution_count": null,
   "metadata": {},
   "outputs": [],
   "source": [
    "# Combining all year data for San Diego\n",
    "tx_df=pd.concat([tx_2014_df, tx_2015_df,tx_2016_df, tx_2017_df], axis = 1)\n",
    "tx_df.head()\n",
    "\n",
    "# Transposing the dataset and resetting index\n",
    "tx_df=tx_df.T\n",
    "tx_df.reset_index\n",
    "tx_df.head()\n",
    "#tx_df.columns\n",
    "\n",
    "tx_df=tx_df[[\"annual_avg_estabs\",\"annual_avg_emplvl\",\"annual_avg_wkly_wage\",\"avg_annual_pay\"]]\n",
    "tx_df.head()"
   ]
  },
  {
   "cell_type": "code",
   "execution_count": null,
   "metadata": {},
   "outputs": [],
   "source": [
    "combined_df=pd.merge(sd_df,tx_df,on=\"year\")\n",
    "print(combined_df.columns)\n",
    "combined_df"
   ]
  },
  {
   "cell_type": "code",
   "execution_count": null,
   "metadata": {},
   "outputs": [],
   "source": [
    "combined_df=combined_df[['annual_avg_estabs_x',\n",
    "       'annual_avg_emplvl_x', 'annual_avg_wkly_wage_x', 'avg_annual_pay_x',\n",
    "       'annual_avg_estabs_y', 'annual_avg_emplvl_y', 'annual_avg_wkly_wage_y',\n",
    "       'avg_annual_pay_y']]\n",
    "combined_df\n",
    "                                    "
   ]
  },
  {
   "cell_type": "code",
   "execution_count": null,
   "metadata": {},
   "outputs": [],
   "source": [
    "# Determining various axes for the line plots\n",
    "\n",
    "# x axis\n",
    "years=combined_df.index.map(str)\n",
    "\n",
    "# y axes\n",
    "sd_est=combined_df['annual_avg_estabs_x'].values\n",
    "tx_est=combined_df['annual_avg_estabs_y'].values\n",
    "sd_emp=combined_df['annual_avg_emplvl_x'].values\n",
    "tx_emp=combined_df['annual_avg_emplvl_y'].values\n",
    "sd_week_wage= combined_df['annual_avg_wkly_wage_x'].values\n",
    "tx_week_wage= combined_df['annual_avg_wkly_wage_y'].values\n",
    "sd_ann_wage= combined_df['avg_annual_pay_x'].values\n",
    "tx_ann_wage= combined_df['avg_annual_pay_y'].values"
   ]
  },
  {
   "cell_type": "code",
   "execution_count": null,
   "metadata": {},
   "outputs": [],
   "source": [
    "# Taxi & Limosine establishments plot over the past 4 years for San Diego and Dallas\n",
    "\n",
    "sd_time_est= plt.plot(years, sd_est, color=\"blue\",marker='o', label=\"SD Establishments\" )\n",
    "tx_time_est=plt.plot(years, tx_est, color=\"red\",marker='^', label=\"DA Establishments\" )\n",
    "\n",
    "# Determining the best location for legends and adding titles/axes names\n",
    "plt.legend(loc=\"best\")\n",
    "plt.title(\"Taxi and Limosine-Avg # Establishments\")\n",
    "plt.ylabel(\"# Establishments\")\n",
    "#plt.grid()\n",
    "\n",
    "# Saving the graph as a png file\n",
    "plt.savefig(\"Average Establishments.png\")\n"
   ]
  },
  {
   "cell_type": "code",
   "execution_count": null,
   "metadata": {},
   "outputs": [],
   "source": [
    "# Taxi & Limosine Employees plot over the past 4 years for San Diego and Dallas\n",
    "\n",
    "sd_time_emp= plt.plot(years, sd_emp, color=\"blue\",marker='o', label=\"SD Employees\" )\n",
    "tx_time_emp=plt.plot(years, tx_emp, color=\"red\",marker='^', label=\"DA Employees\" )\n",
    "\n",
    "# Determining the best location for legends and adding titles/axes names\n",
    "plt.legend(loc=\"best\")\n",
    "plt.title(\"Taxi and Limosine-Avg # Employees\")\n",
    "plt.ylabel(\"# Employees\")\n",
    "#plt.grid()\n",
    "\n",
    "# Saving the graph as a png file\n",
    "plt.savefig(\"Average number of Employees.png\")"
   ]
  },
  {
   "cell_type": "code",
   "execution_count": null,
   "metadata": {},
   "outputs": [],
   "source": [
    "# Taxi & Limosine Avg Weekly wage plot over the past 4 years for San Diego and Dallas\n",
    "\n",
    "sd_time_week_wage= plt.plot(years, sd_week_wage, color=\"blue\",marker='o', label=\"SD weekly wage\" )\n",
    "tx_time_week_wage=plt.plot(years, tx_week_wage, color=\"red\",marker='^', label=\"DA weekly wage\" )\n",
    "\n",
    "# Determining the best location for legends and adding titles/axes names\n",
    "plt.legend(loc=\"best\")\n",
    "plt.title(\"Taxi and Limosine-Avg Weekly Wage\")\n",
    "plt.ylabel(\"Avg Weekly Wage($)\")\n",
    "#plt.grid()\n",
    "\n",
    "# Saving the graph as a png file\n",
    "plt.savefig(\"Average Weekly Wages.png\")"
   ]
  },
  {
   "cell_type": "code",
   "execution_count": null,
   "metadata": {},
   "outputs": [],
   "source": [
    "# Taxi & Limosine Avg Annual wage plot over the past 4 years for San Diego and Dallas\n",
    "\n",
    "sd_time_ann_wage= plt.plot(years, sd_ann_wage, color=\"blue\",marker='o', label=\"SD annual wage\" )\n",
    "tx_time_ann_wage=plt.plot(years, tx_ann_wage, color=\"red\",marker='^', label=\"DA annual wage\" )\n",
    "\n",
    "# Determining the best location for legends and adding titles/axes names\n",
    "plt.legend(loc=\"best\")\n",
    "plt.title(\"Taxi and Limosine-Avg Annual Wage\")\n",
    "plt.ylabel(\"Avg Annual Wage($)\")\n",
    "#plt.grid()\n",
    "\n",
    "# Saving the graph as a png file\n",
    "plt.savefig(\"Average Annual Wages.png\")"
   ]
  },
  {
   "cell_type": "code",
   "execution_count": null,
   "metadata": {},
   "outputs": [],
   "source": []
  },
  {
   "cell_type": "code",
   "execution_count": null,
   "metadata": {},
   "outputs": [],
   "source": []
  },
  {
   "cell_type": "code",
   "execution_count": null,
   "metadata": {},
   "outputs": [],
   "source": [
    "\n",
    "# Census API Key\n",
    "api_key=\"7fb48d43cd6916b05a4f4b36851852f652fe4c47\"\n",
    "#from config import api_key\n",
    "c = Census(api_key, year=2013)\n",
    "\n",
    "base_url= \"https://api.census.gov/data/2014/cbp?\"\n",
    "#years=[2014,2015,2016,2017]\n",
    "#for year in years:\n",
    "query_url= f\"https://api.census.gov/data/{years}/cbp?get=COUNTY,EMP,EMPSZES,EMPSZES_TTL,PAYANN,YEAR&for=county:*&in=state:06&NAICS2012=4853&key=7fb48d43cd6916b05a4f4b36851852f652fe4c47\"\n",
    "response= requests.get(query_url).json()\n",
    "\n",
    "#https://api.census.gov/data/2012/cbp?get=EMPSZES_TTL,GEO_ID,EMP,ESTAB,NAICS2012_TTL,LFO_TTL,GEO_TTL&for=county:*&in=state:*&key=7fb48d43cd6916b05a4f4b36851852f652fe4c47\n",
    "\n",
    "response= requests.get(query_url).json()\n",
    "response\n",
    "#pprint(json.dumps(response, indent=4, sort_keys=True))"
   ]
  },
  {
   "cell_type": "code",
   "execution_count": null,
   "metadata": {
    "scrolled": true
   },
   "outputs": [],
   "source": [
    "#df=pd.DataFrame({dfa[0]:dfa})\n",
    "county=[]\n",
    "emp=[]\n",
    "emp_size=[]\n",
    "annual_pay=[]\n",
    "county_id=[]\n",
    "for i in range(1,len(response)):\n",
    "    if response[i][1] != \"0\":\n",
    "        county.append(response[i][0])\n",
    "        emp.append(response[i][1])\n",
    "        emp_size.append(response[i][2])\n",
    "        annual_pay.append(response[i][4])\n",
    "        county_id.append(response[i][8])\n",
    "df_2016= pd.DataFrame({\"County\":county ,\n",
    "                        \"EMP\": emp ,\n",
    "                        \"EMP_SIZE\": emp_size ,\n",
    "                        \"Annual_Pay\": annual_pay ,\n",
    "                        \"County_id\": county_id \n",
    "                        })\n",
    "df_2016.head()\n"
   ]
  },
  {
   "cell_type": "code",
   "execution_count": null,
   "metadata": {},
   "outputs": [],
   "source": [
    "# Store filepath in a variable\n",
    "file_counties_2014 = \"2014 all counties data.csv\"\n",
    "file_counties_2015 = \"2015 all counties data.csv\"\n",
    "file_counties_2016 = \"2016 all counties data.csv\"\n",
    "file_counties_2017 = \"2017 all counties data.csv\""
   ]
  },
  {
   "cell_type": "code",
   "execution_count": null,
   "metadata": {},
   "outputs": [],
   "source": [
    "counties_2014_df=pd.read_csv(file_counties_2014)\n",
    "counties_2015_df=pd.read_csv(file_counties_2015)\n",
    "counties_2016_df=pd.read_csv(file_counties_2016)\n",
    "counties_2017_df=pd.read_csv(file_counties_2017)\n"
   ]
  },
  {
   "cell_type": "code",
   "execution_count": null,
   "metadata": {},
   "outputs": [],
   "source": [
    "#counties_2014_df.head()\n",
    "counties_2014_sd_df=counties_2014_df.loc[(counties_2014_df[\"area_fips\"] == \"6073\") | (\n",
    "    counties_2014_df[\"area_fips\"] == \"C4174\"), :]\n",
    "\n",
    "counties_2014_sd_df.count()\n",
    "counties_2014_sd_df=counties_2014_sd_df[[\"area_fips\",\"year\",\"annual_avg_estabs\",\"annual_avg_emplvl\",\"annual_avg_wkly_wage\",\"avg_annual_pay\"]]\n",
    "counties_2014_sd_df.head()"
   ]
  },
  {
   "cell_type": "code",
   "execution_count": null,
   "metadata": {},
   "outputs": [],
   "source": [
    "counties_2015_sd_df=counties_2015_df.loc[(counties_2015_df[\"area_fips\"] == \"6073\") | (\n",
    "    counties_2015_df[\"area_fips\"] == \"C4174\"), :]\n",
    "\n",
    "counties_2015_sd_df.count()\n",
    "counties_2015_sd_df=counties_2015_sd_df[[\"area_fips\",\"year\",\"annual_avg_estabs\",\"annual_avg_emplvl\",\"annual_avg_wkly_wage\",\"avg_annual_pay\"]]\n",
    "counties_2015_sd_df.head()"
   ]
  },
  {
   "cell_type": "code",
   "execution_count": null,
   "metadata": {},
   "outputs": [],
   "source": [
    "counties_2016_df.head()"
   ]
  },
  {
   "cell_type": "code",
   "execution_count": null,
   "metadata": {},
   "outputs": [],
   "source": [
    "counties_2017_df.head()"
   ]
  },
  {
   "cell_type": "code",
   "execution_count": null,
   "metadata": {},
   "outputs": [],
   "source": [
    "file_sd_2014 = \"2014 San Diego Data.csv\"\n",
    "file_sd_2015 = \"2015 San Diego Data.csv\"\n",
    "file_sd_2016 = \"2016 San Diego Data.csv\"\n",
    "file_sd_2017 = \"2017 San Diego Data.csv\""
   ]
  },
  {
   "cell_type": "code",
   "execution_count": null,
   "metadata": {},
   "outputs": [],
   "source": [
    "sd_2014_df=pd.read_csv(file_sd_2014)\n",
    "sd_2015_df=pd.read_csv(file_sd_2015)\n",
    "sd_2016_df=pd.read_csv(file_sd_2016)\n",
    "sd_2017_df=pd.read_csv(file_sd_2017)"
   ]
  },
  {
   "cell_type": "code",
   "execution_count": null,
   "metadata": {},
   "outputs": [],
   "source": [
    "#sd_2014_df.head()\n",
    "\n",
    "\n",
    "sd_2014_df=sd_2014_df.loc[(sd_2014_df[\"industry_code\"] == \"4853\") | (\n",
    "    sd_2014_df[\"industry_code\"] == \"48531\") |(sd_2014_df[\"industry_code\"] == \"485310\"), :]\n",
    "sd_2014_df.count()\n",
    "sd_2014_df=sd_2014_df[[\"area_fips\",\"industry_code\",\"year\",\"annual_avg_estabs\",\"annual_avg_emplvl\",\"annual_avg_wkly_wage\",\"avg_annual_pay\"]]\n",
    "sd_2014_df.head()"
   ]
  },
  {
   "cell_type": "code",
   "execution_count": null,
   "metadata": {},
   "outputs": [],
   "source": [
    "sd_2015_df=sd_2015_df.loc[(sd_2015_df[\"industry_code\"] == \"4853\") | (\n",
    "    sd_2015_df[\"industry_code\"] == \"48531\") |(sd_2015_df[\"industry_code\"] == \"485310\"), :]\n",
    "sd_2015_df=sd_2015_df[[\"area_fips\",\"industry_code\",\"year\",\"annual_avg_estabs\",\"annual_avg_emplvl\",\"annual_avg_wkly_wage\",\"avg_annual_pay\"]]\n",
    "sd_2015_df.head()"
   ]
  },
  {
   "cell_type": "code",
   "execution_count": null,
   "metadata": {},
   "outputs": [],
   "source": [
    "sd_2016_df=sd_2016_df.loc[(sd_2016_df[\"industry_code\"] == \"4853\") | (\n",
    "    sd_2016_df[\"industry_code\"] == \"48531\") |(sd_2016_df[\"industry_code\"] == \"485310\"), :]\n",
    "sd_2016_df=sd_2016_df[[\"area_fips\",\"industry_code\",\"year\",\"annual_avg_estabs\",\"annual_avg_emplvl\",\"annual_avg_wkly_wage\",\"avg_annual_pay\"]]\n",
    "sd_2016_df.head()"
   ]
  },
  {
   "cell_type": "code",
   "execution_count": null,
   "metadata": {},
   "outputs": [],
   "source": [
    "sd_2017_df=sd_2017_df.loc[(sd_2017_df[\"industry_code\"] == \"4853\") | (\n",
    "    sd_2017_df[\"industry_code\"] == \"48531\") |(sd_2017_df[\"industry_code\"] == \"485310\")|(sd_2017_df[\"industry_code\"] == \"48532\")|(sd_2017_df[\"industry_code\"] == \"485320\"), :]\n",
    "sd_2017_df=sd_2017_df[[\"area_fips\",\"industry_code\",\"year\",\"annual_avg_estabs\",\"annual_avg_emplvl\",\"annual_avg_wkly_wage\",\"avg_annual_pay\"]]\n",
    "sd_2017_df.head()"
   ]
  },
  {
   "cell_type": "code",
   "execution_count": null,
   "metadata": {},
   "outputs": [],
   "source": []
  },
  {
   "cell_type": "code",
   "execution_count": null,
   "metadata": {},
   "outputs": [],
   "source": []
  }
 ],
 "metadata": {
  "kernelspec": {
   "display_name": "Python 3",
   "language": "python",
   "name": "python3"
  },
  "language_info": {
   "codemirror_mode": {
    "name": "ipython",
    "version": 3
   },
   "file_extension": ".py",
   "mimetype": "text/x-python",
   "name": "python",
   "nbconvert_exporter": "python",
   "pygments_lexer": "ipython3",
   "version": "3.7.2"
  }
 },
 "nbformat": 4,
 "nbformat_minor": 2
}
