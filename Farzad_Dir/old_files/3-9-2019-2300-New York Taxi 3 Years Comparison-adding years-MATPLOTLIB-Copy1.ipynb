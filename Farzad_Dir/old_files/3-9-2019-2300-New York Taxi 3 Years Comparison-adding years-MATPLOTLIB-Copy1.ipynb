{
 "cells": [
  {
   "cell_type": "markdown",
   "metadata": {},
   "source": [
    "# Dependencies"
   ]
  },
  {
   "cell_type": "code",
   "execution_count": 79,
   "metadata": {},
   "outputs": [],
   "source": [
    "# Dependencies\n",
    "\n",
    "\n",
    "import plotly.plotly as py\n",
    "import plotly as py\n",
    "import pandas as pd\n",
    "import numpy as np\n",
    "from IPython.display import display\n",
    "from IPython.display import Image\n",
    "import requests\n",
    "import json\n",
    "import pprint\n",
    "import seaborn as sns\n",
    "import sys\n",
    "import matplotlib.pyplot as plt\n",
    "from functools import reduce\n"
   ]
  },
  {
   "cell_type": "markdown",
   "metadata": {},
   "source": [
    "# 2014 Yellow Taxi Trip Data"
   ]
  },
  {
   "cell_type": "code",
   "execution_count": 80,
   "metadata": {},
   "outputs": [],
   "source": [
    "# 2014 Yellow Taxi Trip Data\n",
    "url2014 = \"https://data.cityofnewyork.us/resource/gkne-dk5s.json\"\n",
    "\n",
    "data = url2014\n",
    "\n",
    "df2014 = pd.read_json(url2014, orient='columns')\n",
    "df14 = pd.read_json(url2014, orient='columns')\n",
    "#df.head()\n",
    "#pd.read_json(url2014, orient='columns').head()"
   ]
  },
  {
   "cell_type": "code",
   "execution_count": 81,
   "metadata": {},
   "outputs": [],
   "source": [
    "df14 [\"year\"] =2014"
   ]
  },
  {
   "cell_type": "markdown",
   "metadata": {},
   "source": [
    "# 2015 Yellow Taxi Trip Data"
   ]
  },
  {
   "cell_type": "code",
   "execution_count": 82,
   "metadata": {},
   "outputs": [],
   "source": [
    "# 2015 Yellow Taxi Trip Data\n",
    "url2015 = \"https://data.cityofnewyork.us/resource/2yzn-sicd.json\"\n",
    "\n",
    "data = url2015\n",
    "\n",
    "df2015 = pd.read_json(url2015, orient='columns')\n",
    "df15 = pd.read_json(url2015, orient='columns')\n",
    "#df.head()\n",
    "#pd.read_json(url2015, orient='columns').head()"
   ]
  },
  {
   "cell_type": "code",
   "execution_count": 83,
   "metadata": {},
   "outputs": [],
   "source": [
    "df15 [\"year\"] =2015"
   ]
  },
  {
   "cell_type": "markdown",
   "metadata": {},
   "source": [
    "# 2016 Yellow Taxi Trip Data"
   ]
  },
  {
   "cell_type": "code",
   "execution_count": 84,
   "metadata": {},
   "outputs": [],
   "source": [
    "# 2016 Yellow Taxi Trip Data\n",
    "url2016 = \"https://data.cityofnewyork.us/resource/uacg-pexx.json\"\n",
    "\n",
    "data = url2016\n",
    "\n",
    "df2016 = pd.read_json(url2016, orient='columns')\n",
    "df16 = pd.read_json(url2016, orient='columns')\n",
    "#df.head()\n",
    "#pd.read_json(url2016, orient='columns').head()"
   ]
  },
  {
   "cell_type": "code",
   "execution_count": 85,
   "metadata": {},
   "outputs": [],
   "source": [
    "df16 [\"year\"] =2016"
   ]
  },
  {
   "cell_type": "markdown",
   "metadata": {},
   "source": [
    "# 2017 Yellow Taxi Trip Data"
   ]
  },
  {
   "cell_type": "code",
   "execution_count": 86,
   "metadata": {},
   "outputs": [],
   "source": [
    "# 2017 Yellow Taxi Trip Data\n",
    "url2017 = \"https://data.cityofnewyork.us/resource/biws-g3hs.json\"\n",
    "\n",
    "data = url2017\n",
    "\n",
    "df2017 = pd.read_json(url2017, orient='columns')\n",
    "df17 = pd.read_json(url2017, orient='columns')\n",
    "#df.head()\n",
    "#pd.read_json(url2017, orient='columns').head()"
   ]
  },
  {
   "cell_type": "code",
   "execution_count": 87,
   "metadata": {},
   "outputs": [],
   "source": [
    "df17 [\"year\"] =2017"
   ]
  },
  {
   "cell_type": "markdown",
   "metadata": {},
   "source": [
    "# 2018 Yellow Taxi Trip Data"
   ]
  },
  {
   "cell_type": "code",
   "execution_count": 88,
   "metadata": {},
   "outputs": [],
   "source": [
    "# 2018 Yellow Taxi Trip Data\n",
    "url2018 = \"https://data.cityofnewyork.us/resource/t29m-gskq.json\"\n",
    "\n",
    "data = url2018\n",
    "\n",
    "df2018 = pd.read_json(url2018, orient='columns')\n",
    "df18 = pd.read_json(url2018, orient='columns')"
   ]
  },
  {
   "cell_type": "code",
   "execution_count": 89,
   "metadata": {},
   "outputs": [
    {
     "data": {
      "text/plain": [
       "Index(['dolocationid', 'extra', 'fare_amount', 'improvement_surcharge',\n",
       "       'mta_tax', 'passenger_count', 'payment_type', 'pulocationid',\n",
       "       'ratecodeid', 'store_and_fwd_flag', 'tip_amount', 'tolls_amount',\n",
       "       'total_amount', 'tpep_dropoff_datetime', 'tpep_pickup_datetime',\n",
       "       'trip_distance', 'vendorid', 'year'],\n",
       "      dtype='object')"
      ]
     },
     "execution_count": 89,
     "metadata": {},
     "output_type": "execute_result"
    }
   ],
   "source": [
    "df18 [\"year\"] =2018\n",
    "df18.columns"
   ]
  },
  {
   "cell_type": "markdown",
   "metadata": {},
   "source": [
    "# Inserting common columns in new dataframes"
   ]
  },
  {
   "cell_type": "code",
   "execution_count": 90,
   "metadata": {},
   "outputs": [],
   "source": [
    "df14_new = df14[['total_amount','fare_amount', 'passenger_count', 'payment_type','tip_amount', 'trip_distance','year']]"
   ]
  },
  {
   "cell_type": "code",
   "execution_count": 91,
   "metadata": {},
   "outputs": [],
   "source": [
    "df15_new = df15[['total_amount','fare_amount', 'passenger_count', 'payment_type','tip_amount', 'trip_distance','year']]"
   ]
  },
  {
   "cell_type": "code",
   "execution_count": 92,
   "metadata": {},
   "outputs": [],
   "source": [
    "df16_new = df16[['total_amount','fare_amount', 'passenger_count', 'payment_type','tip_amount', 'trip_distance','year']]"
   ]
  },
  {
   "cell_type": "code",
   "execution_count": 93,
   "metadata": {},
   "outputs": [],
   "source": [
    "df17_new = df17[['total_amount','fare_amount', 'passenger_count', 'payment_type','tip_amount', 'trip_distance','year']]"
   ]
  },
  {
   "cell_type": "code",
   "execution_count": 94,
   "metadata": {},
   "outputs": [],
   "source": [
    "df18_new = df18[['total_amount','fare_amount', 'passenger_count', 'payment_type','tip_amount', 'trip_distance','year']]"
   ]
  },
  {
   "cell_type": "code",
   "execution_count": 95,
   "metadata": {},
   "outputs": [
    {
     "data": {
      "text/plain": [
       "total_amount       5000\n",
       "fare_amount        5000\n",
       "passenger_count    5000\n",
       "payment_type       5000\n",
       "tip_amount         5000\n",
       "trip_distance      5000\n",
       "year               5000\n",
       "dtype: int64"
      ]
     },
     "execution_count": 95,
     "metadata": {},
     "output_type": "execute_result"
    }
   ],
   "source": [
    "df_new = pd.concat([df14_new, df15_new,df16_new,df17_new,df18_new])\n",
    "df_new.count()"
   ]
  },
  {
   "cell_type": "markdown",
   "metadata": {},
   "source": [
    "# Grouping columns"
   ]
  },
  {
   "cell_type": "code",
   "execution_count": 96,
   "metadata": {},
   "outputs": [],
   "source": [
    "grouped_year_df = df_new.groupby(['year'])"
   ]
  },
  {
   "cell_type": "code",
   "execution_count": 97,
   "metadata": {},
   "outputs": [
    {
     "data": {
      "text/plain": [
       "<pandas.core.groupby.generic.DataFrameGroupBy object at 0x000001CE92A7D128>"
      ]
     },
     "execution_count": 97,
     "metadata": {},
     "output_type": "execute_result"
    }
   ],
   "source": [
    "grouped_year_df"
   ]
  },
  {
   "cell_type": "markdown",
   "metadata": {},
   "source": [
    "# avg_fare_amount"
   ]
  },
  {
   "cell_type": "code",
   "execution_count": 98,
   "metadata": {},
   "outputs": [
    {
     "data": {
      "text/plain": [
       "year\n",
       "2014    13.10700\n",
       "2015    12.17940\n",
       "2016    13.02730\n",
       "2017    12.21351\n",
       "2018    12.11830\n",
       "Name: fare_amount, dtype: float64"
      ]
     },
     "execution_count": 98,
     "metadata": {},
     "output_type": "execute_result"
    }
   ],
   "source": [
    "grouped_year_avg_fare_amount= grouped_year_df['fare_amount'].mean()\n",
    "grouped_year_avg_fare_amount"
   ]
  },
  {
   "cell_type": "markdown",
   "metadata": {},
   "source": [
    "# avg_passenger_count"
   ]
  },
  {
   "cell_type": "code",
   "execution_count": 99,
   "metadata": {},
   "outputs": [
    {
     "data": {
      "text/plain": [
       "year\n",
       "2014    1.709\n",
       "2015    1.629\n",
       "2016    1.683\n",
       "2017    1.623\n",
       "2018    1.607\n",
       "Name: passenger_count, dtype: float64"
      ]
     },
     "execution_count": 99,
     "metadata": {},
     "output_type": "execute_result"
    }
   ],
   "source": [
    "grouped_year_avg_passenger_count= grouped_year_df['passenger_count'].mean()\n",
    "grouped_year_avg_passenger_count"
   ]
  },
  {
   "cell_type": "markdown",
   "metadata": {},
   "source": [
    "# avg_total_amount"
   ]
  },
  {
   "cell_type": "code",
   "execution_count": 100,
   "metadata": {},
   "outputs": [
    {
     "data": {
      "text/plain": [
       "year\n",
       "2014    15.72712\n",
       "2015    15.16096\n",
       "2016    16.29333\n",
       "2017    15.77713\n",
       "2018    15.19047\n",
       "Name: total_amount, dtype: float64"
      ]
     },
     "execution_count": 100,
     "metadata": {},
     "output_type": "execute_result"
    }
   ],
   "source": [
    "grouped_year_avg_total_amount= grouped_year_df['total_amount'].mean()\n",
    "grouped_year_avg_total_amount"
   ]
  },
  {
   "cell_type": "markdown",
   "metadata": {},
   "source": [
    "# avg_tip_amount"
   ]
  },
  {
   "cell_type": "code",
   "execution_count": 101,
   "metadata": {},
   "outputs": [
    {
     "data": {
      "text/plain": [
       "year\n",
       "2014    1.52195\n",
       "2015    1.63184\n",
       "2016    1.77655\n",
       "2017    2.03898\n",
       "2018    1.67249\n",
       "Name: tip_amount, dtype: float64"
      ]
     },
     "execution_count": 101,
     "metadata": {},
     "output_type": "execute_result"
    }
   ],
   "source": [
    "grouped_year_avg_tip_amount= grouped_year_df['tip_amount'].mean()\n",
    "grouped_year_avg_tip_amount"
   ]
  },
  {
   "cell_type": "markdown",
   "metadata": {},
   "source": [
    "# avg_dist"
   ]
  },
  {
   "cell_type": "code",
   "execution_count": 102,
   "metadata": {},
   "outputs": [
    {
     "data": {
      "text/plain": [
       "year\n",
       "2014    3.02800\n",
       "2015    2.80805\n",
       "2016    3.01568\n",
       "2017    2.96328\n",
       "2018    2.79881\n",
       "Name: trip_distance, dtype: float64"
      ]
     },
     "execution_count": 102,
     "metadata": {},
     "output_type": "execute_result"
    }
   ],
   "source": [
    "grouped_year_avg_dist= grouped_year_df['trip_distance'].mean()\n",
    "grouped_year_avg_dist"
   ]
  },
  {
   "cell_type": "markdown",
   "metadata": {},
   "source": [
    "# Combined all to make a new DataFrame"
   ]
  },
  {
   "cell_type": "code",
   "execution_count": 103,
   "metadata": {},
   "outputs": [
    {
     "data": {
      "text/html": [
       "<div>\n",
       "<style scoped>\n",
       "    .dataframe tbody tr th:only-of-type {\n",
       "        vertical-align: middle;\n",
       "    }\n",
       "\n",
       "    .dataframe tbody tr th {\n",
       "        vertical-align: top;\n",
       "    }\n",
       "\n",
       "    .dataframe thead th {\n",
       "        text-align: right;\n",
       "    }\n",
       "</style>\n",
       "<table border=\"1\" class=\"dataframe\">\n",
       "  <thead>\n",
       "    <tr style=\"text-align: right;\">\n",
       "      <th></th>\n",
       "      <th>year</th>\n",
       "      <th>trip_distance</th>\n",
       "      <th>tip_amount</th>\n",
       "      <th>total_amount</th>\n",
       "      <th>passenger_count</th>\n",
       "      <th>fare_amount</th>\n",
       "    </tr>\n",
       "  </thead>\n",
       "  <tbody>\n",
       "    <tr>\n",
       "      <th>0</th>\n",
       "      <td>2014</td>\n",
       "      <td>3.02800</td>\n",
       "      <td>1.52195</td>\n",
       "      <td>15.72712</td>\n",
       "      <td>1.709</td>\n",
       "      <td>13.10700</td>\n",
       "    </tr>\n",
       "    <tr>\n",
       "      <th>1</th>\n",
       "      <td>2015</td>\n",
       "      <td>2.80805</td>\n",
       "      <td>1.63184</td>\n",
       "      <td>15.16096</td>\n",
       "      <td>1.629</td>\n",
       "      <td>12.17940</td>\n",
       "    </tr>\n",
       "    <tr>\n",
       "      <th>2</th>\n",
       "      <td>2016</td>\n",
       "      <td>3.01568</td>\n",
       "      <td>1.77655</td>\n",
       "      <td>16.29333</td>\n",
       "      <td>1.683</td>\n",
       "      <td>13.02730</td>\n",
       "    </tr>\n",
       "    <tr>\n",
       "      <th>3</th>\n",
       "      <td>2017</td>\n",
       "      <td>2.96328</td>\n",
       "      <td>2.03898</td>\n",
       "      <td>15.77713</td>\n",
       "      <td>1.623</td>\n",
       "      <td>12.21351</td>\n",
       "    </tr>\n",
       "    <tr>\n",
       "      <th>4</th>\n",
       "      <td>2018</td>\n",
       "      <td>2.79881</td>\n",
       "      <td>1.67249</td>\n",
       "      <td>15.19047</td>\n",
       "      <td>1.607</td>\n",
       "      <td>12.11830</td>\n",
       "    </tr>\n",
       "  </tbody>\n",
       "</table>\n",
       "</div>"
      ],
      "text/plain": [
       "   year  trip_distance  tip_amount  total_amount  passenger_count  fare_amount\n",
       "0  2014        3.02800     1.52195      15.72712            1.709     13.10700\n",
       "1  2015        2.80805     1.63184      15.16096            1.629     12.17940\n",
       "2  2016        3.01568     1.77655      16.29333            1.683     13.02730\n",
       "3  2017        2.96328     2.03898      15.77713            1.623     12.21351\n",
       "4  2018        2.79881     1.67249      15.19047            1.607     12.11830"
      ]
     },
     "execution_count": 103,
     "metadata": {},
     "output_type": "execute_result"
    }
   ],
   "source": [
    "df_year_avg=pd.concat([grouped_year_avg_dist,grouped_year_avg_tip_amount,grouped_year_avg_total_amount,grouped_year_avg_passenger_count,grouped_year_avg_fare_amount],axis=1).reset_index()\n",
    "df_year_avg"
   ]
  },
  {
   "cell_type": "markdown",
   "metadata": {},
   "source": [
    "# Ploting the Data"
   ]
  },
  {
   "cell_type": "code",
   "execution_count": null,
   "metadata": {},
   "outputs": [],
   "source": []
  },
  {
   "cell_type": "code",
   "execution_count": 104,
   "metadata": {},
   "outputs": [
    {
     "data": {
      "image/png": "[encoded data removed]",
      "text/plain": [
       "<Figure size 864x432 with 1 Axes>"
      ]
     },
     "metadata": {
      "needs_background": "light"
     },
     "output_type": "display_data"
    },
    {
     "data": {
      "text/plain": [
       "<Figure size 432x288 with 0 Axes>"
      ]
     },
     "metadata": {},
     "output_type": "display_data"
    }
   ],
   "source": [
    "\n",
    "# Setting the positions and width for the bars\n",
    "pos = list(range(len(df_year_avg['year']))) \n",
    "width = 0.15 \n",
    "    \n",
    "# Plotting the bars\n",
    "fig, ax = plt.subplots(figsize=(12,6))\n",
    "#######################################################\n",
    "# Create a bar with trip_distance data,\n",
    "# in position pos,\n",
    "plt.bar(pos, \n",
    "        #using df_year_avg['trip_distance'] data,\n",
    "        df_year_avg['trip_distance'], \n",
    "        # of width\n",
    "        width,  \n",
    "        # with color\n",
    "        color='#70AD47', \n",
    "        # with label the first value in years\n",
    "        label=df_year_avg['trip_distance'][0]) \n",
    "\n",
    "########################################################\n",
    "\n",
    "# Create a bar with total_amount data,\n",
    "# in position pos + some width buffer,\n",
    "plt.bar([p + width for p in pos], \n",
    "        #using df_year_avg['total_amount'] data,\n",
    "        df_year_avg['total_amount'],\n",
    "        # of width\n",
    "        width,  \n",
    "        # with color\n",
    "        color='#5B9BD5', \n",
    "        # with label the second value in first_name\n",
    "        label=df_year_avg['total_amount'][1]) \n",
    "##########################################################\n",
    "# Create a bar with post_score data,\n",
    "# in position pos + some width buffer,\n",
    "plt.bar([p + width*2 for p in pos], \n",
    "        #using df_year_avg['fare_amount'] data,\n",
    "        df_year_avg['fare_amount'], \n",
    "        # of width\n",
    "        width, \n",
    "        # with color\n",
    "        color='#ED7D31', \n",
    "        # with label the third value in yearstrip_distance\n",
    "        label=df_year_avg['fare_amount'][2]) \n",
    "##########################################################\n",
    "\n",
    "\n",
    "\n",
    "# Set the y axis label\n",
    "ax.set_ylabel('Amount')\n",
    "\n",
    "# Set the chart's title\n",
    "ax.set_title('New York City Data For Taxi & Limos')\n",
    "\n",
    "# Set the position of the x ticks\n",
    "ax.set_xticks([p + 1.1 * width for p in pos])\n",
    "\n",
    "# Set the labels for the x ticks\n",
    "ax.set_xticklabels(df_year_avg['year'])\n",
    "\n",
    "# Setting the x-axis and y-axis limits\n",
    "plt.xlim(min(pos)-width, max(pos)+width*4)\n",
    "plt.ylim([0,19] )\n",
    "\n",
    "# Adding the legend and showing the plot\n",
    "plt.legend(['trip_distance', 'tip_amount', 'total_amount', 'fare_amount','passenger_count'], loc='upper right')\n",
    "plt.grid()\n",
    "plt.show()\n",
    "plt.savefig('Average_New_York_yellow.png')"
   ]
  },
  {
   "cell_type": "markdown",
   "metadata": {},
   "source": [
    "# The above plot indicates:\n",
    "### 1. Amount of fares has not changed\n",
    "### 2. Trip distance has not changed\n",
    "### 3. Tip amount has not changed"
   ]
  },
  {
   "cell_type": "markdown",
   "metadata": {},
   "source": [
    "## a scatter plot comparing total_amount and tip_amount for 2014"
   ]
  },
  {
   "cell_type": "code",
   "execution_count": 105,
   "metadata": {},
   "outputs": [
    {
     "data": {
      "image/png": "[encoded data removed]",
      "text/plain": [
       "<Figure size 432x288 with 1 Axes>"
      ]
     },
     "metadata": {
      "needs_background": "light"
     },
     "output_type": "display_data"
    },
    {
     "data": {
      "text/plain": [
       "<Figure size 432x288 with 0 Axes>"
      ]
     },
     "metadata": {},
     "output_type": "display_data"
    }
   ],
   "source": [
    "# a scatter plot comparing total_amount and tip_amount\n",
    "df14_new.plot(kind='scatter',x='fare_amount',y='tip_amount',color='#70AD47')\n",
    "plt.show()\n",
    "plt.savefig('fare_amount_2014.png')"
   ]
  },
  {
   "cell_type": "markdown",
   "metadata": {},
   "source": [
    "# a scatter plot comparing total_amount and tip_amount for 2015"
   ]
  },
  {
   "cell_type": "code",
   "execution_count": 106,
   "metadata": {
    "scrolled": true
   },
   "outputs": [
    {
     "data": {
      "image/png": "[encoded data removed]",
      "text/plain": [
       "<Figure size 432x288 with 1 Axes>"
      ]
     },
     "metadata": {
      "needs_background": "light"
     },
     "output_type": "display_data"
    },
    {
     "data": {
      "text/plain": [
       "<Figure size 432x288 with 0 Axes>"
      ]
     },
     "metadata": {},
     "output_type": "display_data"
    }
   ],
   "source": [
    "# a scatter plot comparing total_amount and tip_amount\n",
    "df15_new.plot(kind='scatter',x='fare_amount',y='tip_amount',color='#FF6666')\n",
    "plt.show()\n",
    "plt.savefig('fare_amount_2015.png')"
   ]
  },
  {
   "cell_type": "markdown",
   "metadata": {},
   "source": [
    "### a scatter plot comparing total_amount and tip_amount for 2016"
   ]
  },
  {
   "cell_type": "code",
   "execution_count": 107,
   "metadata": {},
   "outputs": [
    {
     "data": {
      "image/png": "[encoded data removed]",
      "text/plain": [
       "<Figure size 432x288 with 1 Axes>"
      ]
     },
     "metadata": {
      "needs_background": "light"
     },
     "output_type": "display_data"
    },
    {
     "data": {
      "text/plain": [
       "<Figure size 432x288 with 0 Axes>"
      ]
     },
     "metadata": {},
     "output_type": "display_data"
    }
   ],
   "source": [
    "# a scatter plot comparing total_amount and tip_amount\n",
    "df16_new.plot(kind='scatter',x='fare_amount',y='tip_amount',color='#ED7D31')\n",
    "plt.show()\n",
    "plt.savefig('fare_amount_2016.png')"
   ]
  },
  {
   "cell_type": "markdown",
   "metadata": {},
   "source": [
    "### a scatter plot comparing total_amount and tip_amount for 2017"
   ]
  },
  {
   "cell_type": "code",
   "execution_count": 108,
   "metadata": {},
   "outputs": [
    {
     "data": {
      "image/png": "[encoded data removed]",
      "text/plain": [
       "<Figure size 432x288 with 1 Axes>"
      ]
     },
     "metadata": {
      "needs_background": "light"
     },
     "output_type": "display_data"
    },
    {
     "data": {
      "text/plain": [
       "<Figure size 432x288 with 0 Axes>"
      ]
     },
     "metadata": {},
     "output_type": "display_data"
    }
   ],
   "source": [
    "# a scatter plot comparing total_amount and tip_amount\n",
    "df17_new.plot(kind='scatter',x='fare_amount',y='tip_amount',color='#6666FF')\n",
    "plt.show()\n",
    "plt.savefig('fare_amount_2017.png')"
   ]
  },
  {
   "cell_type": "markdown",
   "metadata": {},
   "source": [
    "### a scatter plot comparing total_amount and tip_amount for 2018"
   ]
  },
  {
   "cell_type": "code",
   "execution_count": 110,
   "metadata": {},
   "outputs": [
    {
     "data": {
      "image/png": "[encoded data removed]",
      "text/plain": [
       "<Figure size 432x288 with 1 Axes>"
      ]
     },
     "metadata": {
      "needs_background": "light"
     },
     "output_type": "display_data"
    },
    {
     "data": {
      "text/plain": [
       "<Figure size 432x288 with 0 Axes>"
      ]
     },
     "metadata": {},
     "output_type": "display_data"
    }
   ],
   "source": [
    "# a scatter plot comparing total_amount and tip_amount\n",
    "df18_new.plot(kind='scatter',x='fare_amount',y='tip_amount',color='#5B9BD5')\n",
    "plt.show()\n",
    "plt.savefig('fare_amount_2018.png')"
   ]
  }
 ],
 "metadata": {
  "kernelspec": {
   "display_name": "Python 3",
   "language": "python",
   "name": "python3"
  },
  "language_info": {
   "codemirror_mode": {
    "name": "ipython",
    "version": 3
   },
   "file_extension": ".py",
   "mimetype": "text/x-python",
   "name": "python",
   "nbconvert_exporter": "python",
   "pygments_lexer": "ipython3",
   "version": "3.7.0"
  }
 },
 "nbformat": 4,
 "nbformat_minor": 2
}
