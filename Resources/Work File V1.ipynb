{
 "cells": [
  {
   "cell_type": "code",
   "execution_count": 1,
   "metadata": {},
   "outputs": [],
   "source": [
    "# Importing Dependencies\n",
    "import pandas as pd\n",
    "import numpy as np\n",
    "import matplotlib.pyplot as plt\n",
    "import requests\n",
    "#from census import Census\n",
    "import json\n",
    "import pprint as pprint\n",
    "import seaborn as sns\n"
   ]
  },
  {
   "cell_type": "code",
   "execution_count": 2,
   "metadata": {},
   "outputs": [],
   "source": [
    "# Declaring paths to individual csv files of San Diego data for each year\n",
    "\n",
    "file_sd_2014 = \"2014 San Diego Data.csv\"\n",
    "file_sd_2015 = \"2015 San Diego Data.csv\"\n",
    "file_sd_2016 = \"2016 San Diego Data.csv\"\n",
    "file_sd_2017 = \"2017 San Diego Data.csv\""
   ]
  },
  {
   "cell_type": "code",
   "execution_count": 3,
   "metadata": {},
   "outputs": [],
   "source": [
    "# Reading csv and forming yearwise dataframe\n",
    "\n",
    "sd_2014_df=pd.read_csv(file_sd_2014)\n",
    "sd_2015_df=pd.read_csv(file_sd_2015)\n",
    "sd_2016_df=pd.read_csv(file_sd_2016)\n",
    "sd_2017_df=pd.read_csv(file_sd_2017)\n",
    "\n"
   ]
  },
  {
   "cell_type": "code",
   "execution_count": 4,
   "metadata": {},
   "outputs": [
    {
     "data": {
      "text/html": [
       "<div>\n",
       "<style scoped>\n",
       "    .dataframe tbody tr th:only-of-type {\n",
       "        vertical-align: middle;\n",
       "    }\n",
       "\n",
       "    .dataframe tbody tr th {\n",
       "        vertical-align: top;\n",
       "    }\n",
       "\n",
       "    .dataframe thead th {\n",
       "        text-align: right;\n",
       "    }\n",
       "</style>\n",
       "<table border=\"1\" class=\"dataframe\">\n",
       "  <thead>\n",
       "    <tr style=\"text-align: right;\">\n",
       "      <th>year</th>\n",
       "      <th>2017</th>\n",
       "    </tr>\n",
       "  </thead>\n",
       "  <tbody>\n",
       "    <tr>\n",
       "      <th>area_fips</th>\n",
       "      <td>6073</td>\n",
       "    </tr>\n",
       "    <tr>\n",
       "      <th>industry_code</th>\n",
       "      <td>4853</td>\n",
       "    </tr>\n",
       "    <tr>\n",
       "      <th>annual_avg_estabs</th>\n",
       "      <td>77</td>\n",
       "    </tr>\n",
       "    <tr>\n",
       "      <th>annual_avg_emplvl</th>\n",
       "      <td>614</td>\n",
       "    </tr>\n",
       "    <tr>\n",
       "      <th>annual_avg_wkly_wage</th>\n",
       "      <td>541</td>\n",
       "    </tr>\n",
       "  </tbody>\n",
       "</table>\n",
       "</div>"
      ],
      "text/plain": [
       "year                  2017\n",
       "area_fips             6073\n",
       "industry_code         4853\n",
       "annual_avg_estabs       77\n",
       "annual_avg_emplvl      614\n",
       "annual_avg_wkly_wage   541"
      ]
     },
     "execution_count": 4,
     "metadata": {},
     "output_type": "execute_result"
    }
   ],
   "source": [
    "# filtering and generating dataframe for taxi and limosine industry(code=4853)\n",
    "\n",
    "# sd_2014 row\n",
    "\n",
    "sd_2014_df=sd_2014_df.loc[(sd_2014_df[\"industry_code\"] == \"4853\"), :]\n",
    "# Considering required  columns for our analyses\n",
    "sd_2014_df=sd_2014_df[[\"area_fips\",\"industry_code\",\"year\",\"annual_avg_estabs\",\"annual_avg_emplvl\",\"annual_avg_wkly_wage\",\"avg_annual_pay\"]]\n",
    "# Transposing the row on year\n",
    "sd_2014_df= sd_2014_df.set_index('year').T\n",
    "# Review the transposed df\n",
    "sd_2014_df.head()\n",
    "\n",
    "\n",
    "# sd_2015 row\n",
    "\n",
    "sd_2015_df=sd_2015_df.loc[(sd_2015_df[\"industry_code\"] == \"4853\"), :]\n",
    "# Considering required  columns for our analyses\n",
    "sd_2015_df=sd_2015_df[[\"area_fips\",\"industry_code\",\"year\",\"annual_avg_estabs\",\"annual_avg_emplvl\",\"annual_avg_wkly_wage\",\"avg_annual_pay\"]]\n",
    "# Transposing the row on year\n",
    "sd_2015_df= sd_2015_df.set_index('year').T\n",
    "# Review the transposed df\n",
    "sd_2015_df.head()\n",
    "\n",
    "# sd_2016 row\n",
    "\n",
    "sd_2016_df=sd_2016_df.loc[(sd_2016_df[\"industry_code\"] == \"4853\"), :]\n",
    "# Considering required  columns for our analyses\n",
    "sd_2016_df=sd_2016_df[[\"area_fips\",\"industry_code\",\"year\",\"annual_avg_estabs\",\"annual_avg_emplvl\",\"annual_avg_wkly_wage\",\"avg_annual_pay\"]]\n",
    "# Transposing the row on year\n",
    "sd_2016_df= sd_2016_df.set_index('year').T\n",
    "# Review the transposed df\n",
    "sd_2016_df.head()\n",
    "\n",
    "# sd_2017 row\n",
    "\n",
    "sd_2017_df=sd_2017_df.loc[(sd_2017_df[\"industry_code\"] == \"4853\"), :]\n",
    "# Considering required  columns for our analyses\n",
    "sd_2017_df=sd_2017_df[[\"area_fips\",\"industry_code\",\"year\",\"annual_avg_estabs\",\"annual_avg_emplvl\",\"annual_avg_wkly_wage\",\"avg_annual_pay\"]]\n",
    "# Transposing the row on year\n",
    "sd_2017_df= sd_2017_df.set_index('year').T\n",
    "# Review the transposed df\n",
    "sd_2017_df.head()"
   ]
  },
  {
   "cell_type": "code",
   "execution_count": 77,
   "metadata": {},
   "outputs": [
    {
     "data": {
      "text/html": [
       "<div>\n",
       "<style scoped>\n",
       "    .dataframe tbody tr th:only-of-type {\n",
       "        vertical-align: middle;\n",
       "    }\n",
       "\n",
       "    .dataframe tbody tr th {\n",
       "        vertical-align: top;\n",
       "    }\n",
       "\n",
       "    .dataframe thead th {\n",
       "        text-align: right;\n",
       "    }\n",
       "</style>\n",
       "<table border=\"1\" class=\"dataframe\">\n",
       "  <thead>\n",
       "    <tr style=\"text-align: right;\">\n",
       "      <th></th>\n",
       "      <th>area_fips</th>\n",
       "      <th>industry_code</th>\n",
       "      <th>annual_avg_estabs</th>\n",
       "      <th>annual_avg_emplvl</th>\n",
       "      <th>annual_avg_wkly_wage</th>\n",
       "      <th>avg_annual_pay</th>\n",
       "    </tr>\n",
       "    <tr>\n",
       "      <th>year</th>\n",
       "      <th></th>\n",
       "      <th></th>\n",
       "      <th></th>\n",
       "      <th></th>\n",
       "      <th></th>\n",
       "      <th></th>\n",
       "    </tr>\n",
       "  </thead>\n",
       "  <tbody>\n",
       "    <tr>\n",
       "      <th>2014</th>\n",
       "      <td>6073</td>\n",
       "      <td>4853</td>\n",
       "      <td>80</td>\n",
       "      <td>622</td>\n",
       "      <td>485</td>\n",
       "      <td>25206</td>\n",
       "    </tr>\n",
       "    <tr>\n",
       "      <th>2015</th>\n",
       "      <td>6073</td>\n",
       "      <td>4853</td>\n",
       "      <td>76</td>\n",
       "      <td>736</td>\n",
       "      <td>531</td>\n",
       "      <td>27619</td>\n",
       "    </tr>\n",
       "    <tr>\n",
       "      <th>2016</th>\n",
       "      <td>6073</td>\n",
       "      <td>4853</td>\n",
       "      <td>71</td>\n",
       "      <td>675</td>\n",
       "      <td>510</td>\n",
       "      <td>26507</td>\n",
       "    </tr>\n",
       "    <tr>\n",
       "      <th>2017</th>\n",
       "      <td>6073</td>\n",
       "      <td>4853</td>\n",
       "      <td>77</td>\n",
       "      <td>614</td>\n",
       "      <td>541</td>\n",
       "      <td>28142</td>\n",
       "    </tr>\n",
       "  </tbody>\n",
       "</table>\n",
       "</div>"
      ],
      "text/plain": [
       "     area_fips industry_code annual_avg_estabs annual_avg_emplvl  \\\n",
       "year                                                               \n",
       "2014      6073          4853                80               622   \n",
       "2015      6073          4853                76               736   \n",
       "2016      6073          4853                71               675   \n",
       "2017      6073          4853                77               614   \n",
       "\n",
       "     annual_avg_wkly_wage avg_annual_pay  \n",
       "year                                      \n",
       "2014                  485          25206  \n",
       "2015                  531          27619  \n",
       "2016                  510          26507  \n",
       "2017                  541          28142  "
      ]
     },
     "execution_count": 77,
     "metadata": {},
     "output_type": "execute_result"
    }
   ],
   "source": [
    "# Combining all year data for San Diego\n",
    "sd_df=pd.concat([sd_2014_df, sd_2015_df,sd_2016_df, sd_2017_df], axis = 1)\n",
    "sd_df.head()\n",
    "\n",
    "# Transposing the dataset and resetting index\n",
    "sd_df=sd_df.T\n",
    "#sd_df.index.name is None\n",
    "\n",
    "sd_df\n",
    "\n",
    "#sd_df.set_index()\n",
    "#sd_df"
   ]
  },
  {
   "cell_type": "code",
   "execution_count": null,
   "metadata": {},
   "outputs": [],
   "source": [
    "\n",
    "sd_df.columns = sd_df.columns.get_level_values(0)\n",
    "\n",
    "#sd_df.reset_index(inplace=True) \n",
    "#df.drop(“year”,axis=1,inplace=True)\n",
    "#sd_df['Year'] = sd_df.index\n",
    "sd_df\n",
    "#sd_df=sd_df[[\"annual_avg_estabs\",\"annual_avg_emplvl\",\"annual_avg_wkly_wage\",\"avg_annual_pay\"]]\n",
    "#sd_df.columns\n",
    "#sd_df=sd_df.rename(columns={\"annual_avg_estabs”:“SD Avg Establishments”, “annual_avg_emplvl”: “SD Avg Employees”, “annual_avg_wkly_wage”: “SD Avg weekly wage”})\n",
    "#print(sd_df.head())    \n",
    "\n",
    "#age=sd_df.loc[\"\",\"annual_avg_estabs\"]\n",
    "#age\n",
    "#print(sd_df.head())    \n",
    "\n",
    "df['index1'] = df.index"
   ]
  },
  {
   "cell_type": "code",
   "execution_count": 48,
   "metadata": {},
   "outputs": [],
   "source": [
    "# Declaring paths to individual csv files of Dallas data for each year\n",
    "\n",
    "file_tx_2014 = \"2014 Dallas Data.csv\"\n",
    "file_tx_2015 = \"2015 Dallas Data.csv\"\n",
    "file_tx_2016 = \"2016 Dallas Data.csv\"\n",
    "file_tx_2017 = \"2017 Dallas Data.csv\""
   ]
  },
  {
   "cell_type": "code",
   "execution_count": 17,
   "metadata": {},
   "outputs": [],
   "source": [
    "# Reading csv and forming yearwise dataframe\n",
    "\n",
    "tx_2014_df=pd.read_csv(file_tx_2014)\n",
    "tx_2015_df=pd.read_csv(file_tx_2015)\n",
    "tx_2016_df=pd.read_csv(file_tx_2016)\n",
    "tx_2017_df=pd.read_csv(file_tx_2017)\n"
   ]
  },
  {
   "cell_type": "code",
   "execution_count": 18,
   "metadata": {},
   "outputs": [
    {
     "data": {
      "text/html": [
       "<div>\n",
       "<style scoped>\n",
       "    .dataframe tbody tr th:only-of-type {\n",
       "        vertical-align: middle;\n",
       "    }\n",
       "\n",
       "    .dataframe tbody tr th {\n",
       "        vertical-align: top;\n",
       "    }\n",
       "\n",
       "    .dataframe thead th {\n",
       "        text-align: right;\n",
       "    }\n",
       "</style>\n",
       "<table border=\"1\" class=\"dataframe\">\n",
       "  <thead>\n",
       "    <tr style=\"text-align: right;\">\n",
       "      <th>year</th>\n",
       "      <th>2017</th>\n",
       "    </tr>\n",
       "  </thead>\n",
       "  <tbody>\n",
       "    <tr>\n",
       "      <th>area_fips</th>\n",
       "      <td>48113</td>\n",
       "    </tr>\n",
       "    <tr>\n",
       "      <th>industry_code</th>\n",
       "      <td>4853</td>\n",
       "    </tr>\n",
       "    <tr>\n",
       "      <th>annual_avg_estabs</th>\n",
       "      <td>44</td>\n",
       "    </tr>\n",
       "    <tr>\n",
       "      <th>annual_avg_emplvl</th>\n",
       "      <td>670</td>\n",
       "    </tr>\n",
       "    <tr>\n",
       "      <th>annual_avg_wkly_wage</th>\n",
       "      <td>704</td>\n",
       "    </tr>\n",
       "  </tbody>\n",
       "</table>\n",
       "</div>"
      ],
      "text/plain": [
       "year                   2017\n",
       "area_fips             48113\n",
       "industry_code          4853\n",
       "annual_avg_estabs        44\n",
       "annual_avg_emplvl       670\n",
       "annual_avg_wkly_wage    704"
      ]
     },
     "execution_count": 18,
     "metadata": {},
     "output_type": "execute_result"
    }
   ],
   "source": [
    "# filtering and generating dataframe for taxi and limosine industry(code=4853)\n",
    "\n",
    "# tx_2014 row\n",
    "\n",
    "tx_2014_df=tx_2014_df.loc[(tx_2014_df[\"industry_code\"] == \"4853\"), :]\n",
    "# Considering required  columns for our analyses\n",
    "tx_2014_df=tx_2014_df[[\"area_fips\",\"industry_code\",\"year\",\"annual_avg_estabs\",\"annual_avg_emplvl\",\"annual_avg_wkly_wage\",\"avg_annual_pay\"]]\n",
    "# Transposing the row on year\n",
    "tx_2014_df= tx_2014_df.set_index('year').T\n",
    "# Review the transposed df\n",
    "tx_2014_df.head()\n",
    "\n",
    "\n",
    "# tx_2015 row\n",
    "\n",
    "tx_2015_df=tx_2015_df.loc[(tx_2015_df[\"industry_code\"] == \"4853\"), :]\n",
    "# Considering required  columns for our analyses\n",
    "tx_2015_df=tx_2015_df[[\"area_fips\",\"industry_code\",\"year\",\"annual_avg_estabs\",\"annual_avg_emplvl\",\"annual_avg_wkly_wage\",\"avg_annual_pay\"]]\n",
    "# Transposing the row on year\n",
    "tx_2015_df= tx_2015_df.set_index('year').T\n",
    "# Review the transposed df\n",
    "tx_2015_df.head()\n",
    "\n",
    "# tx_2016 row\n",
    "\n",
    "tx_2016_df=tx_2016_df.loc[(tx_2016_df[\"industry_code\"] == \"4853\"), :]\n",
    "# Considering required  columns for our analyses\n",
    "tx_2016_df=tx_2016_df[[\"area_fips\",\"industry_code\",\"year\",\"annual_avg_estabs\",\"annual_avg_emplvl\",\"annual_avg_wkly_wage\",\"avg_annual_pay\"]]\n",
    "# Transposing the row on year\n",
    "tx_2016_df= tx_2016_df.set_index('year').T\n",
    "# Review the transposed df\n",
    "tx_2016_df.head()\n",
    "\n",
    "# tx_2017 row\n",
    "\n",
    "tx_2017_df=tx_2017_df.loc[(tx_2017_df[\"industry_code\"] == \"4853\"), :]\n",
    "# Considering required  columns for our analyses\n",
    "tx_2017_df=tx_2017_df[[\"area_fips\",\"industry_code\",\"year\",\"annual_avg_estabs\",\"annual_avg_emplvl\",\"annual_avg_wkly_wage\",\"avg_annual_pay\"]]\n",
    "# Transposing the row on year\n",
    "tx_2017_df= tx_2017_df.set_index('year').T\n",
    "# Review the transposed df\n",
    "tx_2017_df.head()"
   ]
  },
  {
   "cell_type": "code",
   "execution_count": 21,
   "metadata": {},
   "outputs": [
    {
     "data": {
      "text/html": [
       "<div>\n",
       "<style scoped>\n",
       "    .dataframe tbody tr th:only-of-type {\n",
       "        vertical-align: middle;\n",
       "    }\n",
       "\n",
       "    .dataframe tbody tr th {\n",
       "        vertical-align: top;\n",
       "    }\n",
       "\n",
       "    .dataframe thead th {\n",
       "        text-align: right;\n",
       "    }\n",
       "</style>\n",
       "<table border=\"1\" class=\"dataframe\">\n",
       "  <thead>\n",
       "    <tr style=\"text-align: right;\">\n",
       "      <th></th>\n",
       "      <th>annual_avg_estabs</th>\n",
       "      <th>annual_avg_emplvl</th>\n",
       "      <th>annual_avg_wkly_wage</th>\n",
       "      <th>avg_annual_pay</th>\n",
       "    </tr>\n",
       "    <tr>\n",
       "      <th>year</th>\n",
       "      <th></th>\n",
       "      <th></th>\n",
       "      <th></th>\n",
       "      <th></th>\n",
       "    </tr>\n",
       "  </thead>\n",
       "  <tbody>\n",
       "    <tr>\n",
       "      <th>2014</th>\n",
       "      <td>54</td>\n",
       "      <td>632</td>\n",
       "      <td>643</td>\n",
       "      <td>33414</td>\n",
       "    </tr>\n",
       "    <tr>\n",
       "      <th>2015</th>\n",
       "      <td>47</td>\n",
       "      <td>620</td>\n",
       "      <td>632</td>\n",
       "      <td>32855</td>\n",
       "    </tr>\n",
       "    <tr>\n",
       "      <th>2016</th>\n",
       "      <td>44</td>\n",
       "      <td>700</td>\n",
       "      <td>660</td>\n",
       "      <td>34318</td>\n",
       "    </tr>\n",
       "    <tr>\n",
       "      <th>2017</th>\n",
       "      <td>44</td>\n",
       "      <td>670</td>\n",
       "      <td>704</td>\n",
       "      <td>36591</td>\n",
       "    </tr>\n",
       "  </tbody>\n",
       "</table>\n",
       "</div>"
      ],
      "text/plain": [
       "     annual_avg_estabs annual_avg_emplvl annual_avg_wkly_wage avg_annual_pay\n",
       "year                                                                        \n",
       "2014                54               632                  643          33414\n",
       "2015                47               620                  632          32855\n",
       "2016                44               700                  660          34318\n",
       "2017                44               670                  704          36591"
      ]
     },
     "execution_count": 21,
     "metadata": {},
     "output_type": "execute_result"
    }
   ],
   "source": [
    "# Combining all year data for San Diego\n",
    "tx_df=pd.concat([tx_2014_df, tx_2015_df,tx_2016_df, tx_2017_df], axis = 1)\n",
    "tx_df.head()\n",
    "\n",
    "# Transposing the dataset and resetting index\n",
    "tx_df=tx_df.T\n",
    "tx_df.reset_index\n",
    "tx_df.head()\n",
    "#tx_df.columns\n",
    "\n",
    "tx_df=tx_df[[\"annual_avg_estabs\",\"annual_avg_emplvl\",\"annual_avg_wkly_wage\",\"avg_annual_pay\"]]\n",
    "tx_df.head()"
   ]
  },
  {
   "cell_type": "code",
   "execution_count": 82,
   "metadata": {},
   "outputs": [
    {
     "name": "stdout",
     "output_type": "stream",
     "text": [
      "Index(['area_fips', 'industry_code', 'annual_avg_estabs_x',\n",
      "       'annual_avg_emplvl_x', 'annual_avg_wkly_wage_x', 'avg_annual_pay_x',\n",
      "       'annual_avg_estabs_y', 'annual_avg_emplvl_y', 'annual_avg_wkly_wage_y',\n",
      "       'avg_annual_pay_y'],\n",
      "      dtype='object')\n"
     ]
    },
    {
     "data": {
      "text/html": [
       "<div>\n",
       "<style scoped>\n",
       "    .dataframe tbody tr th:only-of-type {\n",
       "        vertical-align: middle;\n",
       "    }\n",
       "\n",
       "    .dataframe tbody tr th {\n",
       "        vertical-align: top;\n",
       "    }\n",
       "\n",
       "    .dataframe thead th {\n",
       "        text-align: right;\n",
       "    }\n",
       "</style>\n",
       "<table border=\"1\" class=\"dataframe\">\n",
       "  <thead>\n",
       "    <tr style=\"text-align: right;\">\n",
       "      <th></th>\n",
       "      <th>area_fips</th>\n",
       "      <th>industry_code</th>\n",
       "      <th>annual_avg_estabs_x</th>\n",
       "      <th>annual_avg_emplvl_x</th>\n",
       "      <th>annual_avg_wkly_wage_x</th>\n",
       "      <th>avg_annual_pay_x</th>\n",
       "      <th>annual_avg_estabs_y</th>\n",
       "      <th>annual_avg_emplvl_y</th>\n",
       "      <th>annual_avg_wkly_wage_y</th>\n",
       "      <th>avg_annual_pay_y</th>\n",
       "    </tr>\n",
       "    <tr>\n",
       "      <th>year</th>\n",
       "      <th></th>\n",
       "      <th></th>\n",
       "      <th></th>\n",
       "      <th></th>\n",
       "      <th></th>\n",
       "      <th></th>\n",
       "      <th></th>\n",
       "      <th></th>\n",
       "      <th></th>\n",
       "      <th></th>\n",
       "    </tr>\n",
       "  </thead>\n",
       "  <tbody>\n",
       "    <tr>\n",
       "      <th>2014</th>\n",
       "      <td>6073</td>\n",
       "      <td>4853</td>\n",
       "      <td>80</td>\n",
       "      <td>622</td>\n",
       "      <td>485</td>\n",
       "      <td>25206</td>\n",
       "      <td>54</td>\n",
       "      <td>632</td>\n",
       "      <td>643</td>\n",
       "      <td>33414</td>\n",
       "    </tr>\n",
       "    <tr>\n",
       "      <th>2015</th>\n",
       "      <td>6073</td>\n",
       "      <td>4853</td>\n",
       "      <td>76</td>\n",
       "      <td>736</td>\n",
       "      <td>531</td>\n",
       "      <td>27619</td>\n",
       "      <td>47</td>\n",
       "      <td>620</td>\n",
       "      <td>632</td>\n",
       "      <td>32855</td>\n",
       "    </tr>\n",
       "    <tr>\n",
       "      <th>2016</th>\n",
       "      <td>6073</td>\n",
       "      <td>4853</td>\n",
       "      <td>71</td>\n",
       "      <td>675</td>\n",
       "      <td>510</td>\n",
       "      <td>26507</td>\n",
       "      <td>44</td>\n",
       "      <td>700</td>\n",
       "      <td>660</td>\n",
       "      <td>34318</td>\n",
       "    </tr>\n",
       "    <tr>\n",
       "      <th>2017</th>\n",
       "      <td>6073</td>\n",
       "      <td>4853</td>\n",
       "      <td>77</td>\n",
       "      <td>614</td>\n",
       "      <td>541</td>\n",
       "      <td>28142</td>\n",
       "      <td>44</td>\n",
       "      <td>670</td>\n",
       "      <td>704</td>\n",
       "      <td>36591</td>\n",
       "    </tr>\n",
       "  </tbody>\n",
       "</table>\n",
       "</div>"
      ],
      "text/plain": [
       "     area_fips industry_code annual_avg_estabs_x annual_avg_emplvl_x  \\\n",
       "year                                                                   \n",
       "2014      6073          4853                  80                 622   \n",
       "2015      6073          4853                  76                 736   \n",
       "2016      6073          4853                  71                 675   \n",
       "2017      6073          4853                  77                 614   \n",
       "\n",
       "     annual_avg_wkly_wage_x avg_annual_pay_x annual_avg_estabs_y  \\\n",
       "year                                                               \n",
       "2014                    485            25206                  54   \n",
       "2015                    531            27619                  47   \n",
       "2016                    510            26507                  44   \n",
       "2017                    541            28142                  44   \n",
       "\n",
       "     annual_avg_emplvl_y annual_avg_wkly_wage_y avg_annual_pay_y  \n",
       "year                                                              \n",
       "2014                 632                    643            33414  \n",
       "2015                 620                    632            32855  \n",
       "2016                 700                    660            34318  \n",
       "2017                 670                    704            36591  "
      ]
     },
     "execution_count": 82,
     "metadata": {},
     "output_type": "execute_result"
    }
   ],
   "source": [
    "combined_df=pd.merge(sd_df,tx_df,on=\"year\")\n",
    "print(combined_df.columns)\n",
    "combined_df"
   ]
  },
  {
   "cell_type": "code",
   "execution_count": 85,
   "metadata": {},
   "outputs": [
    {
     "data": {
      "text/html": [
       "<div>\n",
       "<style scoped>\n",
       "    .dataframe tbody tr th:only-of-type {\n",
       "        vertical-align: middle;\n",
       "    }\n",
       "\n",
       "    .dataframe tbody tr th {\n",
       "        vertical-align: top;\n",
       "    }\n",
       "\n",
       "    .dataframe thead th {\n",
       "        text-align: right;\n",
       "    }\n",
       "</style>\n",
       "<table border=\"1\" class=\"dataframe\">\n",
       "  <thead>\n",
       "    <tr style=\"text-align: right;\">\n",
       "      <th></th>\n",
       "      <th>annual_avg_estabs_x</th>\n",
       "      <th>annual_avg_emplvl_x</th>\n",
       "      <th>annual_avg_wkly_wage_x</th>\n",
       "      <th>avg_annual_pay_x</th>\n",
       "      <th>annual_avg_estabs_y</th>\n",
       "      <th>annual_avg_emplvl_y</th>\n",
       "      <th>annual_avg_wkly_wage_y</th>\n",
       "      <th>avg_annual_pay_y</th>\n",
       "    </tr>\n",
       "    <tr>\n",
       "      <th>year</th>\n",
       "      <th></th>\n",
       "      <th></th>\n",
       "      <th></th>\n",
       "      <th></th>\n",
       "      <th></th>\n",
       "      <th></th>\n",
       "      <th></th>\n",
       "      <th></th>\n",
       "    </tr>\n",
       "  </thead>\n",
       "  <tbody>\n",
       "    <tr>\n",
       "      <th>2014</th>\n",
       "      <td>80</td>\n",
       "      <td>622</td>\n",
       "      <td>485</td>\n",
       "      <td>25206</td>\n",
       "      <td>54</td>\n",
       "      <td>632</td>\n",
       "      <td>643</td>\n",
       "      <td>33414</td>\n",
       "    </tr>\n",
       "    <tr>\n",
       "      <th>2015</th>\n",
       "      <td>76</td>\n",
       "      <td>736</td>\n",
       "      <td>531</td>\n",
       "      <td>27619</td>\n",
       "      <td>47</td>\n",
       "      <td>620</td>\n",
       "      <td>632</td>\n",
       "      <td>32855</td>\n",
       "    </tr>\n",
       "    <tr>\n",
       "      <th>2016</th>\n",
       "      <td>71</td>\n",
       "      <td>675</td>\n",
       "      <td>510</td>\n",
       "      <td>26507</td>\n",
       "      <td>44</td>\n",
       "      <td>700</td>\n",
       "      <td>660</td>\n",
       "      <td>34318</td>\n",
       "    </tr>\n",
       "    <tr>\n",
       "      <th>2017</th>\n",
       "      <td>77</td>\n",
       "      <td>614</td>\n",
       "      <td>541</td>\n",
       "      <td>28142</td>\n",
       "      <td>44</td>\n",
       "      <td>670</td>\n",
       "      <td>704</td>\n",
       "      <td>36591</td>\n",
       "    </tr>\n",
       "  </tbody>\n",
       "</table>\n",
       "</div>"
      ],
      "text/plain": [
       "     annual_avg_estabs_x annual_avg_emplvl_x annual_avg_wkly_wage_x  \\\n",
       "year                                                                  \n",
       "2014                  80                 622                    485   \n",
       "2015                  76                 736                    531   \n",
       "2016                  71                 675                    510   \n",
       "2017                  77                 614                    541   \n",
       "\n",
       "     avg_annual_pay_x annual_avg_estabs_y annual_avg_emplvl_y  \\\n",
       "year                                                            \n",
       "2014            25206                  54                 632   \n",
       "2015            27619                  47                 620   \n",
       "2016            26507                  44                 700   \n",
       "2017            28142                  44                 670   \n",
       "\n",
       "     annual_avg_wkly_wage_y avg_annual_pay_y  \n",
       "year                                          \n",
       "2014                    643            33414  \n",
       "2015                    632            32855  \n",
       "2016                    660            34318  \n",
       "2017                    704            36591  "
      ]
     },
     "execution_count": 85,
     "metadata": {},
     "output_type": "execute_result"
    }
   ],
   "source": [
    "combined_df=combined_df[['annual_avg_estabs_x',\n",
    "       'annual_avg_emplvl_x', 'annual_avg_wkly_wage_x', 'avg_annual_pay_x',\n",
    "       'annual_avg_estabs_y', 'annual_avg_emplvl_y', 'annual_avg_wkly_wage_y',\n",
    "       'avg_annual_pay_y']]\n",
    "combined_df\n",
    "                                    "
   ]
  },
  {
   "cell_type": "code",
   "execution_count": 103,
   "metadata": {},
   "outputs": [],
   "source": [
    "# Determining various axes for the line plots\n",
    "\n",
    "# x axis\n",
    "years=combined_df.index.map(str)\n",
    "\n",
    "# y axes\n",
    "sd_est=combined_df['annual_avg_estabs_x'].values\n",
    "tx_est=combined_df['annual_avg_estabs_y'].values\n",
    "sd_emp=combined_df['annual_avg_emplvl_x'].values\n",
    "tx_emp=combined_df['annual_avg_emplvl_y'].values\n",
    "sd_week_wage= combined_df['annual_avg_wkly_wage_x'].values\n",
    "tx_week_wage= combined_df['annual_avg_wkly_wage_y'].values\n",
    "sd_ann_wage= combined_df['avg_annual_pay_x'].values\n",
    "tx_ann_wage= combined_df['avg_annual_pay_y'].values"
   ]
  },
  {
   "cell_type": "code",
   "execution_count": 102,
   "metadata": {},
   "outputs": [
    {
     "data": {
      "image/png": "[encoded data removed]",
      "text/plain": [
       "<Figure size 432x288 with 1 Axes>"
      ]
     },
     "metadata": {
      "needs_background": "light"
     },
     "output_type": "display_data"
    }
   ],
   "source": [
    "# Taxi & Limosine establishments plot over the past 4 years for San Diego and Dallas\n",
    "\n",
    "sd_time_est= plt.plot(years, sd_est, color=\"blue\",marker='o', label=\"SD_Est\" )\n",
    "tx_time_est=plt.plot(years, tx_est, color=\"red\",marker='^', label=\"DA_Est\" )\n",
    "\n",
    "# Determining the best location for legends and adding titles/axes names\n",
    "plt.legend(loc=\"best\")\n",
    "plt.title(\"Taxi and Limosine-Avg # Establishments\")\n",
    "plt.ylabel(\"# Establishments\")\n",
    "#plt.grid()\n",
    "\n",
    "# Saving the graph as a png file\n",
    "plt.savefig(\"Average Establishments.png\")\n"
   ]
  },
  {
   "cell_type": "code",
   "execution_count": 104,
   "metadata": {},
   "outputs": [
    {
     "data": {
      "image/png": "[encoded data removed]",
      "text/plain": [
       "<Figure size 432x288 with 1 Axes>"
      ]
     },
     "metadata": {
      "needs_background": "light"
     },
     "output_type": "display_data"
    }
   ],
   "source": [
    "# Taxi & Limosine Employees plot over the past 4 years for San Diego and Dallas\n",
    "\n",
    "sd_time_emp= plt.plot(years, sd_emp, color=\"blue\",marker='o', label=\"SD_Emp\" )\n",
    "tx_time_emp=plt.plot(years, tx_emp, color=\"red\",marker='^', label=\"DA_Emp\" )\n",
    "\n",
    "# Determining the best location for legends and adding titles/axes names\n",
    "plt.legend(loc=\"best\")\n",
    "plt.title(\"Taxi and Limosine-Avg # Employees\")\n",
    "plt.ylabel(\"# Employees\")\n",
    "#plt.grid()\n",
    "\n",
    "# Saving the graph as a png file\n",
    "plt.savefig(\"Average number of Employees.png\")"
   ]
  },
  {
   "cell_type": "code",
   "execution_count": 105,
   "metadata": {},
   "outputs": [
    {
     "data": {
      "image/png": "[encoded data removed]",
      "text/plain": [
       "<Figure size 432x288 with 1 Axes>"
      ]
     },
     "metadata": {
      "needs_background": "light"
     },
     "output_type": "display_data"
    }
   ],
   "source": [
    "# Taxi & Limosine Avg Weekly wage plot over the past 4 years for San Diego and Dallas\n",
    "\n",
    "sd_time_week_wage= plt.plot(years, sd_week_wage, color=\"blue\",marker='o', label=\"SD_Weeklywage\" )\n",
    "tx_time_week_wage=plt.plot(years, tx_week_wage, color=\"red\",marker='^', label=\"DA_Weeklywage\" )\n",
    "\n",
    "# Determining the best location for legends and adding titles/axes names\n",
    "plt.legend(loc=\"best\")\n",
    "plt.title(\"Taxi and Limosine-Avg Weekly Wage\")\n",
    "plt.ylabel(\"Avg Weekly Wage($)\")\n",
    "#plt.grid()\n",
    "\n",
    "# Saving the graph as a png file\n",
    "plt.savefig(\"Average Weekly Wages.png\")"
   ]
  },
  {
   "cell_type": "code",
   "execution_count": 106,
   "metadata": {},
   "outputs": [
    {
     "data": {
      "image/png": "[encoded data removed]",
      "text/plain": [
       "<Figure size 432x288 with 1 Axes>"
      ]
     },
     "metadata": {
      "needs_background": "light"
     },
     "output_type": "display_data"
    }
   ],
   "source": [
    "# Taxi & Limosine Avg Annual wage plot over the past 4 years for San Diego and Dallas\n",
    "\n",
    "sd_time_ann_wage= plt.plot(years, sd_ann_wage, color=\"blue\",marker='o', label=\"SD_Annwage\" )\n",
    "tx_time_ann_wage=plt.plot(years, tx_ann_wage, color=\"red\",marker='^', label=\"DA_Annwage\" )\n",
    "\n",
    "# Determining the best location for legends and adding titles/axes names\n",
    "plt.legend(loc=\"best\")\n",
    "plt.title(\"Taxi and Limosine-Avg Annual Wage\")\n",
    "plt.ylabel(\"Avg Annual Wage($)\")\n",
    "#plt.grid()\n",
    "\n",
    "# Saving the graph as a png file\n",
    "plt.savefig(\"Average Annual Wages.png\")"
   ]
  },
  {
   "cell_type": "code",
   "execution_count": null,
   "metadata": {},
   "outputs": [],
   "source": []
  },
  {
   "cell_type": "code",
   "execution_count": null,
   "metadata": {},
   "outputs": [],
   "source": []
  },
  {
   "cell_type": "code",
   "execution_count": null,
   "metadata": {},
   "outputs": [],
   "source": [
    "\n",
    "# Census API Key\n",
    "api_key=\"7fb48d43cd6916b05a4f4b36851852f652fe4c47\"\n",
    "#from config import api_key\n",
    "c = Census(api_key, year=2013)\n",
    "\n",
    "base_url= \"https://api.census.gov/data/2014/cbp?\"\n",
    "#years=[2014,2015,2016,2017]\n",
    "#for year in years:\n",
    "query_url= f\"https://api.census.gov/data/{years}/cbp?get=COUNTY,EMP,EMPSZES,EMPSZES_TTL,PAYANN,YEAR&for=county:*&in=state:06&NAICS2012=4853&key=7fb48d43cd6916b05a4f4b36851852f652fe4c47\"\n",
    "response= requests.get(query_url).json()\n",
    "\n",
    "#https://api.census.gov/data/2012/cbp?get=EMPSZES_TTL,GEO_ID,EMP,ESTAB,NAICS2012_TTL,LFO_TTL,GEO_TTL&for=county:*&in=state:*&key=7fb48d43cd6916b05a4f4b36851852f652fe4c47\n",
    "\n",
    "response= requests.get(query_url).json()\n",
    "response\n",
    "#pprint(json.dumps(response, indent=4, sort_keys=True))"
   ]
  },
  {
   "cell_type": "code",
   "execution_count": null,
   "metadata": {
    "scrolled": true
   },
   "outputs": [],
   "source": [
    "#df=pd.DataFrame({dfa[0]:dfa})\n",
    "county=[]\n",
    "emp=[]\n",
    "emp_size=[]\n",
    "annual_pay=[]\n",
    "county_id=[]\n",
    "for i in range(1,len(response)):\n",
    "    if response[i][1] != \"0\":\n",
    "        county.append(response[i][0])\n",
    "        emp.append(response[i][1])\n",
    "        emp_size.append(response[i][2])\n",
    "        annual_pay.append(response[i][4])\n",
    "        county_id.append(response[i][8])\n",
    "df_2016= pd.DataFrame({\"County\":county ,\n",
    "                        \"EMP\": emp ,\n",
    "                        \"EMP_SIZE\": emp_size ,\n",
    "                        \"Annual_Pay\": annual_pay ,\n",
    "                        \"County_id\": county_id \n",
    "                        })\n",
    "df_2016.head()\n"
   ]
  },
  {
   "cell_type": "code",
   "execution_count": null,
   "metadata": {},
   "outputs": [],
   "source": [
    "# Store filepath in a variable\n",
    "file_counties_2014 = \"2014 all counties data.csv\"\n",
    "file_counties_2015 = \"2015 all counties data.csv\"\n",
    "file_counties_2016 = \"2016 all counties data.csv\"\n",
    "file_counties_2017 = \"2017 all counties data.csv\""
   ]
  },
  {
   "cell_type": "code",
   "execution_count": null,
   "metadata": {},
   "outputs": [],
   "source": [
    "counties_2014_df=pd.read_csv(file_counties_2014)\n",
    "counties_2015_df=pd.read_csv(file_counties_2015)\n",
    "counties_2016_df=pd.read_csv(file_counties_2016)\n",
    "counties_2017_df=pd.read_csv(file_counties_2017)\n"
   ]
  },
  {
   "cell_type": "code",
   "execution_count": null,
   "metadata": {},
   "outputs": [],
   "source": [
    "#counties_2014_df.head()\n",
    "counties_2014_sd_df=counties_2014_df.loc[(counties_2014_df[\"area_fips\"] == \"6073\") | (\n",
    "    counties_2014_df[\"area_fips\"] == \"C4174\"), :]\n",
    "\n",
    "counties_2014_sd_df.count()\n",
    "counties_2014_sd_df=counties_2014_sd_df[[\"area_fips\",\"year\",\"annual_avg_estabs\",\"annual_avg_emplvl\",\"annual_avg_wkly_wage\",\"avg_annual_pay\"]]\n",
    "counties_2014_sd_df.head()"
   ]
  },
  {
   "cell_type": "code",
   "execution_count": null,
   "metadata": {},
   "outputs": [],
   "source": [
    "counties_2015_sd_df=counties_2015_df.loc[(counties_2015_df[\"area_fips\"] == \"6073\") | (\n",
    "    counties_2015_df[\"area_fips\"] == \"C4174\"), :]\n",
    "\n",
    "counties_2015_sd_df.count()\n",
    "counties_2015_sd_df=counties_2015_sd_df[[\"area_fips\",\"year\",\"annual_avg_estabs\",\"annual_avg_emplvl\",\"annual_avg_wkly_wage\",\"avg_annual_pay\"]]\n",
    "counties_2015_sd_df.head()"
   ]
  },
  {
   "cell_type": "code",
   "execution_count": null,
   "metadata": {},
   "outputs": [],
   "source": [
    "counties_2016_df.head()"
   ]
  },
  {
   "cell_type": "code",
   "execution_count": null,
   "metadata": {},
   "outputs": [],
   "source": [
    "counties_2017_df.head()"
   ]
  },
  {
   "cell_type": "code",
   "execution_count": null,
   "metadata": {},
   "outputs": [],
   "source": [
    "file_sd_2014 = \"2014 San Diego Data.csv\"\n",
    "file_sd_2015 = \"2015 San Diego Data.csv\"\n",
    "file_sd_2016 = \"2016 San Diego Data.csv\"\n",
    "file_sd_2017 = \"2017 San Diego Data.csv\""
   ]
  },
  {
   "cell_type": "code",
   "execution_count": null,
   "metadata": {},
   "outputs": [],
   "source": [
    "sd_2014_df=pd.read_csv(file_sd_2014)\n",
    "sd_2015_df=pd.read_csv(file_sd_2015)\n",
    "sd_2016_df=pd.read_csv(file_sd_2016)\n",
    "sd_2017_df=pd.read_csv(file_sd_2017)"
   ]
  },
  {
   "cell_type": "code",
   "execution_count": null,
   "metadata": {},
   "outputs": [],
   "source": [
    "#sd_2014_df.head()\n",
    "\n",
    "\n",
    "sd_2014_df=sd_2014_df.loc[(sd_2014_df[\"industry_code\"] == \"4853\") | (\n",
    "    sd_2014_df[\"industry_code\"] == \"48531\") |(sd_2014_df[\"industry_code\"] == \"485310\"), :]\n",
    "sd_2014_df.count()\n",
    "sd_2014_df=sd_2014_df[[\"area_fips\",\"industry_code\",\"year\",\"annual_avg_estabs\",\"annual_avg_emplvl\",\"annual_avg_wkly_wage\",\"avg_annual_pay\"]]\n",
    "sd_2014_df.head()"
   ]
  },
  {
   "cell_type": "code",
   "execution_count": null,
   "metadata": {},
   "outputs": [],
   "source": [
    "sd_2015_df=sd_2015_df.loc[(sd_2015_df[\"industry_code\"] == \"4853\") | (\n",
    "    sd_2015_df[\"industry_code\"] == \"48531\") |(sd_2015_df[\"industry_code\"] == \"485310\"), :]\n",
    "sd_2015_df=sd_2015_df[[\"area_fips\",\"industry_code\",\"year\",\"annual_avg_estabs\",\"annual_avg_emplvl\",\"annual_avg_wkly_wage\",\"avg_annual_pay\"]]\n",
    "sd_2015_df.head()"
   ]
  },
  {
   "cell_type": "code",
   "execution_count": null,
   "metadata": {},
   "outputs": [],
   "source": [
    "sd_2016_df=sd_2016_df.loc[(sd_2016_df[\"industry_code\"] == \"4853\") | (\n",
    "    sd_2016_df[\"industry_code\"] == \"48531\") |(sd_2016_df[\"industry_code\"] == \"485310\"), :]\n",
    "sd_2016_df=sd_2016_df[[\"area_fips\",\"industry_code\",\"year\",\"annual_avg_estabs\",\"annual_avg_emplvl\",\"annual_avg_wkly_wage\",\"avg_annual_pay\"]]\n",
    "sd_2016_df.head()"
   ]
  },
  {
   "cell_type": "code",
   "execution_count": null,
   "metadata": {},
   "outputs": [],
   "source": [
    "sd_2017_df=sd_2017_df.loc[(sd_2017_df[\"industry_code\"] == \"4853\") | (\n",
    "    sd_2017_df[\"industry_code\"] == \"48531\") |(sd_2017_df[\"industry_code\"] == \"485310\")|(sd_2017_df[\"industry_code\"] == \"48532\")|(sd_2017_df[\"industry_code\"] == \"485320\"), :]\n",
    "sd_2017_df=sd_2017_df[[\"area_fips\",\"industry_code\",\"year\",\"annual_avg_estabs\",\"annual_avg_emplvl\",\"annual_avg_wkly_wage\",\"avg_annual_pay\"]]\n",
    "sd_2017_df.head()"
   ]
  },
  {
   "cell_type": "code",
   "execution_count": null,
   "metadata": {},
   "outputs": [],
   "source": []
  },
  {
   "cell_type": "code",
   "execution_count": null,
   "metadata": {},
   "outputs": [],
   "source": []
  }
 ],
 "metadata": {
  "kernelspec": {
   "display_name": "Python 3",
   "language": "python",
   "name": "python3"
  },
  "language_info": {
   "codemirror_mode": {
    "name": "ipython",
    "version": 3
   },
   "file_extension": ".py",
   "mimetype": "text/x-python",
   "name": "python",
   "nbconvert_exporter": "python",
   "pygments_lexer": "ipython3",
   "version": "3.7.1"
  }
 },
 "nbformat": 4,
 "nbformat_minor": 2
}
