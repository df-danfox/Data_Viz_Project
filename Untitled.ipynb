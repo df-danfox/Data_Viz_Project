{
 "cells": [
  {
   "cell_type": "code",
   "execution_count": 4,
   "metadata": {},
   "outputs": [
    {
     "name": "stdout",
     "output_type": "stream",
     "text": [
      "Enter a positive non zero number9\n",
      "Summation is 45.0\n"
     ]
    }
   ],
   "source": [
    "def summation(num):\n",
    "    if num <=0:\n",
    "        print (\"Summation not defined for negative or 0\")\n",
    "    else :\n",
    "        summation= (num*(num+1))/2\n",
    "        print(f\"Summation is {summation}\")\n",
    "\n",
    "num= int(input(\"Enter a positive non zero number\"))\n",
    "summation(num)\n",
    "   \n",
    "        \n",
    "        \n",
    "        "
   ]
  },
  {
   "cell_type": "code",
   "execution_count": 3,
   "metadata": {},
   "outputs": [
    {
     "name": "stdout",
     "output_type": "stream",
     "text": [
      "Enter a number:5\n",
      "answer is -5\n"
     ]
    }
   ],
   "source": [
    "def make_negative( number ):\n",
    "    if number == 0:\n",
    "        answer= 0\n",
    "    elif number < 0:\n",
    "        answer= number\n",
    "    else:\n",
    "        answer= (-1* number)\n",
    "    print(f\"answer is {answer}\")\n",
    "\n",
    "number= int(input(\"Enter a number:\"))\n",
    "make_negative(number)"
   ]
  },
  {
   "cell_type": "code",
   "execution_count": null,
   "metadata": {},
   "outputs": [],
   "source": []
  }
 ],
 "metadata": {
  "kernelspec": {
   "display_name": "Python 3",
   "language": "python",
   "name": "python3"
  },
  "language_info": {
   "codemirror_mode": {
    "name": "ipython",
    "version": 3
   },
   "file_extension": ".py",
   "mimetype": "text/x-python",
   "name": "python",
   "nbconvert_exporter": "python",
   "pygments_lexer": "ipython3",
   "version": "3.7.1"
  }
 },
 "nbformat": 4,
 "nbformat_minor": 2
}
