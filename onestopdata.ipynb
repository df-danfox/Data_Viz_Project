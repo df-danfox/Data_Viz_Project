{
 "cells": [
  {
   "cell_type": "code",
   "execution_count": null,
   "metadata": {},
   "outputs": [],
   "source": [
    "import pandas as pd\n",
    "import numpy as np\n",
    "import requests\n",
    "import json"
   ]
  },
  {
   "cell_type": "code",
   "execution_count": null,
   "metadata": {},
   "outputs": [],
   "source": [
    "#base_url = \"https://api.careeronestop.org/v1/occupation/3HAyrFBWGYLl6M1/Taxi%20Drivers%20and%20Chauffeurs/\"\n",
    "\n",
    "#San Diego Information\n",
    "#base_url=3\n",
    "#url = \"https://api.careeronestop.org/v1/occupation/3HAyrFBWGYLl6M1/Taxi%20Drivers%20and%20Chauffeurs/san%20diego%2C%20ca?training=true&interest=true&videos=true&tasks=true&dwas=true&wages=true&alternateOnetTitles=true&projectedEmployment=true&ooh=true&stateLMILinks=true&relatedOnetTitles=true&skills=false&knowledge=true&ability=true&trainingPrograms=true\"\n",
    "#response = requests.get(url).json()\n",
    "#base_url   \n",
    "    \n",
    "#Dallas Information  \n",
    "#https://api.careeronestop.org/v1/occupation/3HAyrFBWGYLl6M1/Taxi%20Drivers%20and%20Chauffeurs/dallas%2C%20tx?training=true&interest=true&videos=true&tasks=true&dwas=true&wages=true&alternateOnetTitles=true&projectedEmployment=true&ooh=true&stateLMILinks=true&relatedOnetTitles=true&skills=false&knowledge=true&ability=true&trainingPrograms=true\n",
    "\n",
    "#Boston \n",
    " #https://api.careeronestop.org/v1/occupation/3HAyrFBWGYLl6M1/Taxi%20Drivers%20and%20Chauffeurs/boston%2C%20ma?training=true&interest=true&videos=true&tasks=true&dwas=true&wages=true&alternateOnetTitles=true&projectedEmployment=true&ooh=true&stateLMILinks=true&relatedOnetTitles=true&skills=false&knowledge=true&ability=true&trainingPrograms=true   "
   ]
  },
  {
   "cell_type": "code",
   "execution_count": null,
   "metadata": {},
   "outputs": [],
   "source": [
    "# url\n",
    "# response = requests.get(url).json()\n",
    "# response"
   ]
  },
  {
   "cell_type": "code",
   "execution_count": 2,
   "metadata": {},
   "outputs": [
    {
     "name": "stdout",
     "output_type": "stream",
     "text": [
      "{'Message': 'Unauthorized', 'ErrorCode': 401}\n"
     ]
    }
   ],
   "source": [
    "import pandas as pd\n",
    "import numpy as np\n",
    "import requests\n",
    "import json\n",
    "\n",
    "userId = \"3HAyrFBWGYLl6M1\"\n",
    "onetCode = \"53304100\"\n",
    "location = \"San Diego, CA\"\n",
    "apikey = \"Bearer, eODEsyCieWZJ+6HhiLG+oVL2DoRo2pKsw3xtCEnO4HXLwfYMVWdFG18co4RuFvHr3rN/EcuNhcqY4rImdHXMEQ==\"\n",
    "auth_values = (apikey, userId )\n",
    "url = \"https://api.careeronestop.org/v1/lmi/{userId}/{onetCode}/{location}\"\n",
    "\n",
    "response = requests.get(url, auth=auth_values)\n",
    " \n",
    "# Convert JSON to dict and print\n",
    "print(response.json())\n",
    "\n",
    "#r = requests.get(url).json()\n",
    "#response = requests.get('{URL}', headers={'Authorization': 'token'})\n"
   ]
  },
  {
   "cell_type": "code",
   "execution_count": null,
   "metadata": {},
   "outputs": [],
   "source": [
    "from urllib.request import Request, urlopen\n",
    "q = Request('https://api.careeronestop.org/v1/lmi/eODEsyCieWZJ+6HhiLG+oVL2DoRo2pKsw3xtCEnO4HXLwfYMVWdFG18co4RuFvHr3rN/EcuNhcqY4rImdHXMEQ==/3HAyrFBWGYLl6M1/53304100/san%20diego%2C%20ca')\n",
    "q.add_header('Bearer', 'eODEsyCieWZJ+6HhiLG+oVL2DoRo2pKsw3xtCEnO4HXLwfYMVWdFG18co4RuFvHr3rN/EcuNhcqY4rImdHXMEQ==')\n",
    "a = urlopen(q).read()\n",
    "\n",
    "print(a)"
   ]
  },
  {
   "cell_type": "code",
   "execution_count": 3,
   "metadata": {},
   "outputs": [],
   "source": [
    "\n",
    "d=pd.read_html('https://www.careeronestop.org/Toolkit/StateAndLocal/Wages.aspx?soccode=533041&location=92101&dataview=&hourly=False&national=false')\n"
   ]
  },
  {
   "cell_type": "code",
   "execution_count": 4,
   "metadata": {},
   "outputs": [
    {
     "data": {
      "text/plain": [
       "list"
      ]
     },
     "execution_count": 4,
     "metadata": {},
     "output_type": "execute_result"
    }
   ],
   "source": [
    "type(d)\n"
   ]
  },
  {
   "cell_type": "code",
   "execution_count": 5,
   "metadata": {},
   "outputs": [
    {
     "data": {
      "text/plain": [
       "1"
      ]
     },
     "execution_count": 5,
     "metadata": {},
     "output_type": "execute_result"
    }
   ],
   "source": [
    "len(d)"
   ]
  },
  {
   "cell_type": "code",
   "execution_count": 6,
   "metadata": {},
   "outputs": [
    {
     "data": {
      "text/html": [
       "<div>\n",
       "<style scoped>\n",
       "    .dataframe tbody tr th:only-of-type {\n",
       "        vertical-align: middle;\n",
       "    }\n",
       "\n",
       "    .dataframe tbody tr th {\n",
       "        vertical-align: top;\n",
       "    }\n",
       "\n",
       "    .dataframe thead tr th {\n",
       "        text-align: left;\n",
       "    }\n",
       "</style>\n",
       "<table border=\"1\" class=\"dataframe\">\n",
       "  <thead>\n",
       "    <tr>\n",
       "      <th></th>\n",
       "      <th>Location</th>\n",
       "      <th>PayPeriod</th>\n",
       "      <th>2017</th>\n",
       "      <th>Unnamed: 3_level_0</th>\n",
       "      <th>Unnamed: 4_level_0</th>\n",
       "      <th>Unnamed: 5_level_0</th>\n",
       "      <th>Unnamed: 6_level_0</th>\n",
       "    </tr>\n",
       "    <tr>\n",
       "      <th></th>\n",
       "      <th>10%</th>\n",
       "      <th>25%</th>\n",
       "      <th>Median</th>\n",
       "      <th>75%</th>\n",
       "      <th>90%</th>\n",
       "      <th>Unnamed: 5_level_1</th>\n",
       "      <th>Unnamed: 6_level_1</th>\n",
       "    </tr>\n",
       "  </thead>\n",
       "  <tbody>\n",
       "    <tr>\n",
       "      <th>0</th>\n",
       "      <td>United States</td>\n",
       "      <td>Hourly</td>\n",
       "      <td>$9.02</td>\n",
       "      <td>$10.16</td>\n",
       "      <td>$11.96</td>\n",
       "      <td>$15.01</td>\n",
       "      <td>$18.93</td>\n",
       "    </tr>\n",
       "    <tr>\n",
       "      <th>1</th>\n",
       "      <td>NaN</td>\n",
       "      <td>Yearly</td>\n",
       "      <td>$18,750</td>\n",
       "      <td>$21,130</td>\n",
       "      <td>$24,880</td>\n",
       "      <td>$31,210</td>\n",
       "      <td>$39,380</td>\n",
       "    </tr>\n",
       "    <tr>\n",
       "      <th>2</th>\n",
       "      <td>California</td>\n",
       "      <td>Hourly</td>\n",
       "      <td>$10.61</td>\n",
       "      <td>$11.44</td>\n",
       "      <td>$13.76</td>\n",
       "      <td>$18.02</td>\n",
       "      <td>$21.81</td>\n",
       "    </tr>\n",
       "    <tr>\n",
       "      <th>3</th>\n",
       "      <td>NaN</td>\n",
       "      <td>Yearly</td>\n",
       "      <td>$22,070</td>\n",
       "      <td>$23,800</td>\n",
       "      <td>$28,620</td>\n",
       "      <td>$37,470</td>\n",
       "      <td>$45,370</td>\n",
       "    </tr>\n",
       "    <tr>\n",
       "      <th>4</th>\n",
       "      <td>San Diego-Carlsbad-San Marcos, CA MSA</td>\n",
       "      <td>Hourly</td>\n",
       "      <td>$10.55</td>\n",
       "      <td>$11.20</td>\n",
       "      <td>$12.30</td>\n",
       "      <td>$14.66</td>\n",
       "      <td>$18.06</td>\n",
       "    </tr>\n",
       "    <tr>\n",
       "      <th>5</th>\n",
       "      <td>NaN</td>\n",
       "      <td>Yearly</td>\n",
       "      <td>$21,940</td>\n",
       "      <td>$23,300</td>\n",
       "      <td>$25,580</td>\n",
       "      <td>$30,500</td>\n",
       "      <td>$37,560</td>\n",
       "    </tr>\n",
       "  </tbody>\n",
       "</table>\n",
       "</div>"
      ],
      "text/plain": [
       "                                Location PayPeriod     2017  \\\n",
       "                                     10%       25%   Median   \n",
       "0                          United States    Hourly    $9.02   \n",
       "1                                    NaN    Yearly  $18,750   \n",
       "2                             California    Hourly   $10.61   \n",
       "3                                    NaN    Yearly  $22,070   \n",
       "4  San Diego-Carlsbad-San Marcos, CA MSA    Hourly   $10.55   \n",
       "5                                    NaN    Yearly  $21,940   \n",
       "\n",
       "  Unnamed: 3_level_0 Unnamed: 4_level_0 Unnamed: 5_level_0 Unnamed: 6_level_0  \n",
       "                 75%                90% Unnamed: 5_level_1 Unnamed: 6_level_1  \n",
       "0             $10.16             $11.96             $15.01             $18.93  \n",
       "1            $21,130            $24,880            $31,210            $39,380  \n",
       "2             $11.44             $13.76             $18.02             $21.81  \n",
       "3            $23,800            $28,620            $37,470            $45,370  \n",
       "4             $11.20             $12.30             $14.66             $18.06  \n",
       "5            $23,300            $25,580            $30,500            $37,560  "
      ]
     },
     "execution_count": 6,
     "metadata": {},
     "output_type": "execute_result"
    }
   ],
   "source": [
    "d[0]\n"
   ]
  },
  {
   "cell_type": "code",
   "execution_count": 11,
   "metadata": {},
   "outputs": [
    {
     "name": "stdout",
     "output_type": "stream",
     "text": [
      "<class 'pandas.core.frame.DataFrame'>\n",
      "RangeIndex: 6 entries, 0 to 5\n",
      "Data columns (total 7 columns):\n",
      "(Location, 10%)                             3 non-null object\n",
      "(PayPeriod, 25%)                            6 non-null object\n",
      "(2017, Median)                              6 non-null object\n",
      "(Unnamed: 3_level_0, 75%)                   6 non-null object\n",
      "(Unnamed: 4_level_0, 90%)                   6 non-null object\n",
      "(Unnamed: 5_level_0, Unnamed: 5_level_1)    6 non-null object\n",
      "(Unnamed: 6_level_0, Unnamed: 6_level_1)    6 non-null object\n",
      "dtypes: object(7)\n",
      "memory usage: 416.0+ bytes\n"
     ]
    }
   ],
   "source": [
    "df=d[0]\n",
    "df.info()\n",
    "\n"
   ]
  },
  {
   "cell_type": "code",
   "execution_count": null,
   "metadata": {},
   "outputs": [],
   "source": [
    "r = requests.get(url, headers=header)\n"
   ]
  },
  {
   "cell_type": "code",
   "execution_count": null,
   "metadata": {},
   "outputs": [],
   "source": [
    "userId\n"
   ]
  },
  {
   "cell_type": "code",
   "execution_count": null,
   "metadata": {},
   "outputs": [],
   "source": [
    "onetCode\n"
   ]
  },
  {
   "cell_type": "code",
   "execution_count": null,
   "metadata": {},
   "outputs": [],
   "source": [
    "location"
   ]
  },
  {
   "cell_type": "code",
   "execution_count": null,
   "metadata": {},
   "outputs": [],
   "source": [
    "token\n"
   ]
  },
  {
   "cell_type": "code",
   "execution_count": null,
   "metadata": {},
   "outputs": [],
   "source": []
  },
  {
   "cell_type": "code",
   "execution_count": null,
   "metadata": {},
   "outputs": [],
   "source": [
    "url\n"
   ]
  },
  {
   "cell_type": "code",
   "execution_count": null,
   "metadata": {},
   "outputs": [],
   "source": [
    "response\n"
   ]
  },
  {
   "cell_type": "code",
   "execution_count": null,
   "metadata": {},
   "outputs": [],
   "source": [
    "\"https://api.careeronestop.org/v1/lmi/3HAyrFBWGYLl6M1/53304100/san%20diego%2C%20ca\""
   ]
  },
  {
   "cell_type": "code",
   "execution_count": null,
   "metadata": {},
   "outputs": [],
   "source": []
  }
 ],
 "metadata": {
  "kernelspec": {
   "display_name": "Python 3",
   "language": "python",
   "name": "python3"
  },
  "language_info": {
   "codemirror_mode": {
    "name": "ipython",
    "version": 3
   },
   "file_extension": ".py",
   "mimetype": "text/x-python",
   "name": "python",
   "nbconvert_exporter": "python",
   "pygments_lexer": "ipython3",
   "version": "3.7.1"
  }
 },
 "nbformat": 4,
 "nbformat_minor": 2
}
